{
  "cells": [
    {
      "cell_type": "code",
      "execution_count": 1,
      "id": "ca244b39-fe19-4b08-9058-d7612eaa5d54",
      "metadata": {
        "colab": {
          "base_uri": "https://localhost:8080/"
        },
        "id": "ca244b39-fe19-4b08-9058-d7612eaa5d54",
        "outputId": "ea9121ed-9540-4480-a9f3-ee50a543dca5"
      },
      "outputs": [
        {
          "output_type": "stream",
          "name": "stdout",
          "text": [
            "Looking in indexes: https://pypi.org/simple, https://us-python.pkg.dev/colab-wheels/public/simple/\n",
            "Requirement already satisfied: transformers in /usr/local/lib/python3.9/dist-packages (4.28.1)\n",
            "Requirement already satisfied: sentencepiece in /usr/local/lib/python3.9/dist-packages (0.1.98)\n",
            "Requirement already satisfied: numpy>=1.17 in /usr/local/lib/python3.9/dist-packages (from transformers) (1.22.4)\n",
            "Requirement already satisfied: huggingface-hub<1.0,>=0.11.0 in /usr/local/lib/python3.9/dist-packages (from transformers) (0.14.0)\n",
            "Requirement already satisfied: requests in /usr/local/lib/python3.9/dist-packages (from transformers) (2.27.1)\n",
            "Requirement already satisfied: filelock in /usr/local/lib/python3.9/dist-packages (from transformers) (3.11.0)\n",
            "Requirement already satisfied: pyyaml>=5.1 in /usr/local/lib/python3.9/dist-packages (from transformers) (6.0)\n",
            "Requirement already satisfied: packaging>=20.0 in /usr/local/lib/python3.9/dist-packages (from transformers) (23.1)\n",
            "Requirement already satisfied: regex!=2019.12.17 in /usr/local/lib/python3.9/dist-packages (from transformers) (2022.10.31)\n",
            "Requirement already satisfied: tokenizers!=0.11.3,<0.14,>=0.11.1 in /usr/local/lib/python3.9/dist-packages (from transformers) (0.13.3)\n",
            "Requirement already satisfied: tqdm>=4.27 in /usr/local/lib/python3.9/dist-packages (from transformers) (4.65.0)\n",
            "Requirement already satisfied: fsspec in /usr/local/lib/python3.9/dist-packages (from huggingface-hub<1.0,>=0.11.0->transformers) (2023.4.0)\n",
            "Requirement already satisfied: typing-extensions>=3.7.4.3 in /usr/local/lib/python3.9/dist-packages (from huggingface-hub<1.0,>=0.11.0->transformers) (4.5.0)\n",
            "Requirement already satisfied: certifi>=2017.4.17 in /usr/local/lib/python3.9/dist-packages (from requests->transformers) (2022.12.7)\n",
            "Requirement already satisfied: idna<4,>=2.5 in /usr/local/lib/python3.9/dist-packages (from requests->transformers) (3.4)\n",
            "Requirement already satisfied: charset-normalizer~=2.0.0 in /usr/local/lib/python3.9/dist-packages (from requests->transformers) (2.0.12)\n",
            "Requirement already satisfied: urllib3<1.27,>=1.21.1 in /usr/local/lib/python3.9/dist-packages (from requests->transformers) (1.26.15)\n"
          ]
        }
      ],
      "source": [
        "!pip install transformers sentencepiece"
      ]
    },
    {
      "cell_type": "code",
      "execution_count": 2,
      "id": "RfCXRW5jNvJi",
      "metadata": {
        "colab": {
          "base_uri": "https://localhost:8080/"
        },
        "id": "RfCXRW5jNvJi",
        "outputId": "18d6f9e5-5dc9-4589-d8ea-dc088f7394ce"
      },
      "outputs": [
        {
          "output_type": "stream",
          "name": "stdout",
          "text": [
            "Drive already mounted at /content/drive; to attempt to forcibly remount, call drive.mount(\"/content/drive\", force_remount=True).\n"
          ]
        }
      ],
      "source": [
        "from google.colab import drive\n",
        "drive.mount('/content/drive')"
      ]
    },
    {
      "cell_type": "code",
      "execution_count": 3,
      "id": "0oUriqT1Nz4P",
      "metadata": {
        "id": "0oUriqT1Nz4P"
      },
      "outputs": [],
      "source": [
        "!cp -r /content/drive/MyDrive/\"semester 8\"/Kontur/. /content"
      ]
    },
    {
      "cell_type": "code",
      "execution_count": 4,
      "id": "d7622a9c-a2ed-41ca-8b8a-8302443246c7",
      "metadata": {
        "colab": {
          "base_uri": "https://localhost:8080/"
        },
        "id": "d7622a9c-a2ed-41ca-8b8a-8302443246c7",
        "outputId": "bd56667a-7305-46c3-9679-61c4f3bdc827"
      },
      "outputs": [
        {
          "output_type": "stream",
          "name": "stderr",
          "text": [
            "[nltk_data] Downloading package punkt to /root/nltk_data...\n",
            "[nltk_data]   Package punkt is already up-to-date!\n"
          ]
        }
      ],
      "source": [
        "from utils.data_processing import process_train_df,text_to_words_list\n",
        "from utils.index_extraction import extract_word_position_from_texts\n",
        "import pandas as pd\n",
        "import numpy as np\n",
        "\n",
        "from sklearn.model_selection import train_test_split\n",
        "\n",
        "from tqdm import tqdm\n",
        "\n",
        "import torch\n",
        "from torch.utils.data import Dataset,DataLoader\n",
        "\n",
        "from transformers import AutoTokenizer, AutoModel\n",
        "from nltk.lm import Vocabulary\n",
        "\n",
        "from IPython.display import clear_output"
      ]
    },
    {
      "cell_type": "markdown",
      "id": "531d2d8c-8f51-4db5-bc6f-765139e5ad25",
      "metadata": {
        "id": "531d2d8c-8f51-4db5-bc6f-765139e5ad25"
      },
      "source": [
        "# Model"
      ]
    },
    {
      "cell_type": "markdown",
      "id": "ca5fcb45-c465-4ab2-af98-904e95e1261b",
      "metadata": {
        "id": "ca5fcb45-c465-4ab2-af98-904e95e1261b"
      },
      "source": [
        "## Data Processing"
      ]
    },
    {
      "cell_type": "code",
      "execution_count": 5,
      "id": "0199d57b-40a8-49e2-bb44-bc35720e376d",
      "metadata": {
        "colab": {
          "base_uri": "https://localhost:8080/",
          "height": 288
        },
        "id": "0199d57b-40a8-49e2-bb44-bc35720e376d",
        "outputId": "454361bd-fee0-4e62-d1c3-d79e554c4292"
      },
      "outputs": [
        {
          "output_type": "execute_result",
          "data": {
            "text/plain": [
              "          id                                               text  \\\n",
              "0  809436509  Извещение о проведении открытого конкурса в эл...   \n",
              "1  854885310  ТРЕБОВАНИЯ К СОДЕРЖАНИЮ ЗАЯВКИ участника запро...   \n",
              "2    4382157  Извещение о проведении электронного аукциона д...   \n",
              "3  184555082  Извещение о проведении электронного аукциона д...   \n",
              "\n",
              "                              label  \\\n",
              "0  обеспечение исполнения контракта   \n",
              "1  обеспечение исполнения контракта   \n",
              "2  обеспечение исполнения контракта   \n",
              "3  обеспечение исполнения контракта   \n",
              "\n",
              "                                         text_output  answer_start  answer_end  \n",
              "0  Размер обеспечения исполнения контракта 6593.2...          1279        1343  \n",
              "1  Поставщик должен предоставить обеспечение испо...          1222        1318  \n",
              "2     Размер обеспечения исполнения контракта 10.00%          1297        1343  \n",
              "3     Размер обеспечения исполнения контракта 10.00%          1304        1350  "
            ],
            "text/html": [
              "\n",
              "  <div id=\"df-0f44f059-1ddc-4e4c-82d5-d7d8cb1b350d\">\n",
              "    <div class=\"colab-df-container\">\n",
              "      <div>\n",
              "<style scoped>\n",
              "    .dataframe tbody tr th:only-of-type {\n",
              "        vertical-align: middle;\n",
              "    }\n",
              "\n",
              "    .dataframe tbody tr th {\n",
              "        vertical-align: top;\n",
              "    }\n",
              "\n",
              "    .dataframe thead th {\n",
              "        text-align: right;\n",
              "    }\n",
              "</style>\n",
              "<table border=\"1\" class=\"dataframe\">\n",
              "  <thead>\n",
              "    <tr style=\"text-align: right;\">\n",
              "      <th></th>\n",
              "      <th>id</th>\n",
              "      <th>text</th>\n",
              "      <th>label</th>\n",
              "      <th>text_output</th>\n",
              "      <th>answer_start</th>\n",
              "      <th>answer_end</th>\n",
              "    </tr>\n",
              "  </thead>\n",
              "  <tbody>\n",
              "    <tr>\n",
              "      <th>0</th>\n",
              "      <td>809436509</td>\n",
              "      <td>Извещение о проведении открытого конкурса в эл...</td>\n",
              "      <td>обеспечение исполнения контракта</td>\n",
              "      <td>Размер обеспечения исполнения контракта 6593.2...</td>\n",
              "      <td>1279</td>\n",
              "      <td>1343</td>\n",
              "    </tr>\n",
              "    <tr>\n",
              "      <th>1</th>\n",
              "      <td>854885310</td>\n",
              "      <td>ТРЕБОВАНИЯ К СОДЕРЖАНИЮ ЗАЯВКИ участника запро...</td>\n",
              "      <td>обеспечение исполнения контракта</td>\n",
              "      <td>Поставщик должен предоставить обеспечение испо...</td>\n",
              "      <td>1222</td>\n",
              "      <td>1318</td>\n",
              "    </tr>\n",
              "    <tr>\n",
              "      <th>2</th>\n",
              "      <td>4382157</td>\n",
              "      <td>Извещение о проведении электронного аукциона д...</td>\n",
              "      <td>обеспечение исполнения контракта</td>\n",
              "      <td>Размер обеспечения исполнения контракта 10.00%</td>\n",
              "      <td>1297</td>\n",
              "      <td>1343</td>\n",
              "    </tr>\n",
              "    <tr>\n",
              "      <th>3</th>\n",
              "      <td>184555082</td>\n",
              "      <td>Извещение о проведении электронного аукциона д...</td>\n",
              "      <td>обеспечение исполнения контракта</td>\n",
              "      <td>Размер обеспечения исполнения контракта 10.00%</td>\n",
              "      <td>1304</td>\n",
              "      <td>1350</td>\n",
              "    </tr>\n",
              "  </tbody>\n",
              "</table>\n",
              "</div>\n",
              "      <button class=\"colab-df-convert\" onclick=\"convertToInteractive('df-0f44f059-1ddc-4e4c-82d5-d7d8cb1b350d')\"\n",
              "              title=\"Convert this dataframe to an interactive table.\"\n",
              "              style=\"display:none;\">\n",
              "        \n",
              "  <svg xmlns=\"http://www.w3.org/2000/svg\" height=\"24px\"viewBox=\"0 0 24 24\"\n",
              "       width=\"24px\">\n",
              "    <path d=\"M0 0h24v24H0V0z\" fill=\"none\"/>\n",
              "    <path d=\"M18.56 5.44l.94 2.06.94-2.06 2.06-.94-2.06-.94-.94-2.06-.94 2.06-2.06.94zm-11 1L8.5 8.5l.94-2.06 2.06-.94-2.06-.94L8.5 2.5l-.94 2.06-2.06.94zm10 10l.94 2.06.94-2.06 2.06-.94-2.06-.94-.94-2.06-.94 2.06-2.06.94z\"/><path d=\"M17.41 7.96l-1.37-1.37c-.4-.4-.92-.59-1.43-.59-.52 0-1.04.2-1.43.59L10.3 9.45l-7.72 7.72c-.78.78-.78 2.05 0 2.83L4 21.41c.39.39.9.59 1.41.59.51 0 1.02-.2 1.41-.59l7.78-7.78 2.81-2.81c.8-.78.8-2.07 0-2.86zM5.41 20L4 18.59l7.72-7.72 1.47 1.35L5.41 20z\"/>\n",
              "  </svg>\n",
              "      </button>\n",
              "      \n",
              "  <style>\n",
              "    .colab-df-container {\n",
              "      display:flex;\n",
              "      flex-wrap:wrap;\n",
              "      gap: 12px;\n",
              "    }\n",
              "\n",
              "    .colab-df-convert {\n",
              "      background-color: #E8F0FE;\n",
              "      border: none;\n",
              "      border-radius: 50%;\n",
              "      cursor: pointer;\n",
              "      display: none;\n",
              "      fill: #1967D2;\n",
              "      height: 32px;\n",
              "      padding: 0 0 0 0;\n",
              "      width: 32px;\n",
              "    }\n",
              "\n",
              "    .colab-df-convert:hover {\n",
              "      background-color: #E2EBFA;\n",
              "      box-shadow: 0px 1px 2px rgba(60, 64, 67, 0.3), 0px 1px 3px 1px rgba(60, 64, 67, 0.15);\n",
              "      fill: #174EA6;\n",
              "    }\n",
              "\n",
              "    [theme=dark] .colab-df-convert {\n",
              "      background-color: #3B4455;\n",
              "      fill: #D2E3FC;\n",
              "    }\n",
              "\n",
              "    [theme=dark] .colab-df-convert:hover {\n",
              "      background-color: #434B5C;\n",
              "      box-shadow: 0px 1px 3px 1px rgba(0, 0, 0, 0.15);\n",
              "      filter: drop-shadow(0px 1px 2px rgba(0, 0, 0, 0.3));\n",
              "      fill: #FFFFFF;\n",
              "    }\n",
              "  </style>\n",
              "\n",
              "      <script>\n",
              "        const buttonEl =\n",
              "          document.querySelector('#df-0f44f059-1ddc-4e4c-82d5-d7d8cb1b350d button.colab-df-convert');\n",
              "        buttonEl.style.display =\n",
              "          google.colab.kernel.accessAllowed ? 'block' : 'none';\n",
              "\n",
              "        async function convertToInteractive(key) {\n",
              "          const element = document.querySelector('#df-0f44f059-1ddc-4e4c-82d5-d7d8cb1b350d');\n",
              "          const dataTable =\n",
              "            await google.colab.kernel.invokeFunction('convertToInteractive',\n",
              "                                                     [key], {});\n",
              "          if (!dataTable) return;\n",
              "\n",
              "          const docLinkHtml = 'Like what you see? Visit the ' +\n",
              "            '<a target=\"_blank\" href=https://colab.research.google.com/notebooks/data_table.ipynb>data table notebook</a>'\n",
              "            + ' to learn more about interactive tables.';\n",
              "          element.innerHTML = '';\n",
              "          dataTable['output_type'] = 'display_data';\n",
              "          await google.colab.output.renderOutput(dataTable, element);\n",
              "          const docLink = document.createElement('div');\n",
              "          docLink.innerHTML = docLinkHtml;\n",
              "          element.appendChild(docLink);\n",
              "        }\n",
              "      </script>\n",
              "    </div>\n",
              "  </div>\n",
              "  "
            ]
          },
          "metadata": {},
          "execution_count": 5
        }
      ],
      "source": [
        "df_train = pd.read_json(\"dataset/train.json\")\n",
        "df_train = process_train_df(df_train)\n",
        "df_train.head(4)"
      ]
    },
    {
      "cell_type": "code",
      "execution_count": 6,
      "id": "8DuqWc61O9_f",
      "metadata": {
        "colab": {
          "base_uri": "https://localhost:8080/"
        },
        "id": "8DuqWc61O9_f",
        "outputId": "1643056a-b9a2-40e2-87e3-5bd09f351fee"
      },
      "outputs": [
        {
          "output_type": "stream",
          "name": "stderr",
          "text": [
            "[nltk_data] Downloading package stopwords to /root/nltk_data...\n",
            "[nltk_data]   Package stopwords is already up-to-date!\n"
          ]
        },
        {
          "output_type": "execute_result",
          "data": {
            "text/plain": [
              "True"
            ]
          },
          "metadata": {},
          "execution_count": 6
        }
      ],
      "source": [
        "import nltk\n",
        "nltk.download('stopwords')"
      ]
    },
    {
      "cell_type": "code",
      "execution_count": 7,
      "id": "3dbdbdcf-1962-44c8-96af-e102a559b373",
      "metadata": {
        "id": "3dbdbdcf-1962-44c8-96af-e102a559b373"
      },
      "outputs": [],
      "source": [
        "text_list_of_words, text_all_words_list, word_position_list = text_to_words_list(list(df_train.text))\n",
        "output_text_list_of_words, output_text_all_words_list, output_word_position_list = text_to_words_list(list(df_train.text_output))\n",
        "output_word_position_list = extract_word_position_from_texts(word_position_list,text_list_of_words,output_text_list_of_words,df_train)"
      ]
    },
    {
      "cell_type": "code",
      "execution_count": 8,
      "id": "39ad75ac-2c68-4f36-bdcf-bb312310abec",
      "metadata": {
        "colab": {
          "base_uri": "https://localhost:8080/"
        },
        "id": "39ad75ac-2c68-4f36-bdcf-bb312310abec",
        "outputId": "6942568a-8321-47c2-8ebb-17974918055c"
      },
      "outputs": [
        {
          "output_type": "execute_result",
          "data": {
            "text/plain": [
              "1015"
            ]
          },
          "metadata": {},
          "execution_count": 8
        }
      ],
      "source": [
        "seq_lens = [len(text_list_of_words[i]) for i in range(len(text_list_of_words))]\n",
        "max(seq_lens)"
      ]
    },
    {
      "cell_type": "code",
      "execution_count": 9,
      "id": "d408f645-dcbe-4fdb-be38-c57c22608627",
      "metadata": {
        "colab": {
          "base_uri": "https://localhost:8080/"
        },
        "id": "d408f645-dcbe-4fdb-be38-c57c22608627",
        "outputId": "eab5b1e3-9b5f-4f39-c7d1-4db535b26fda"
      },
      "outputs": [
        {
          "output_type": "execute_result",
          "data": {
            "text/plain": [
              "(369, 369)"
            ]
          },
          "metadata": {},
          "execution_count": 9
        }
      ],
      "source": [
        "len(text_list_of_words[0]), len(word_position_list[0])"
      ]
    },
    {
      "cell_type": "code",
      "execution_count": 10,
      "id": "f0210a60-bced-4001-baf3-f86d652098b1",
      "metadata": {
        "colab": {
          "base_uri": "https://localhost:8080/"
        },
        "id": "f0210a60-bced-4001-baf3-f86d652098b1",
        "outputId": "f0018bb9-85c8-4839-edca-c8a5374dd0dc"
      },
      "outputs": [
        {
          "output_type": "execute_result",
          "data": {
            "text/plain": [
              "array([1., 1., 1., 1.])"
            ]
          },
          "metadata": {},
          "execution_count": 10
        }
      ],
      "source": [
        "class_vals = np.zeros(len(df_train))\n",
        "c1,c2 = df_train.label.unique()[0],df_train.label.unique()[1]\n",
        "class_vals[df_train.label==c1] = 1\n",
        "class_vals[df_train.label==c2] = 2\n",
        "class_vals[:4]"
      ]
    },
    {
      "cell_type": "markdown",
      "id": "ae8dce1b-1fdf-470f-ae81-9311f3560ec7",
      "metadata": {
        "id": "ae8dce1b-1fdf-470f-ae81-9311f3560ec7"
      },
      "source": [
        "### Embeding\n",
        "\n",
        "Отдельное обучение\n",
        "- word to vec + PCA\n",
        "- BERT\n",
        "- word2vec + Simple ML model"
      ]
    },
    {
      "cell_type": "code",
      "execution_count": 11,
      "id": "27d158ec-ec8d-4908-8b92-969394c998b7",
      "metadata": {
        "id": "27d158ec-ec8d-4908-8b92-969394c998b7"
      },
      "outputs": [],
      "source": [
        "# t_all_w = Vocabulary(text_all_words_list)\n",
        "# len(text_all_words_list),len(t_all_w)"
      ]
    },
    {
      "cell_type": "markdown",
      "id": "6054eb18-1e59-4a3c-a06d-093cadb0083a",
      "metadata": {
        "id": "6054eb18-1e59-4a3c-a06d-093cadb0083a"
      },
      "source": [
        "#### Word to digit"
      ]
    },
    {
      "cell_type": "code",
      "execution_count": 12,
      "id": "bf46c929-f461-4ce1-b011-42278cfa67bc",
      "metadata": {
        "id": "bf46c929-f461-4ce1-b011-42278cfa67bc"
      },
      "outputs": [],
      "source": [
        "# words_dicts = {}\n",
        "# text_list_of_encoded_words = []\n",
        "# for text in text_list_of_words:\n",
        "#     current_encoding = []\n",
        "#     for w in text:\n",
        "#         if w not in words_dicts.keys():\n",
        "#             words_dicts[w] = len(words_dicts)\n",
        "#         current_encoding.append(words_dicts[w])\n",
        "#     text_list_of_encoded_words.append(current_encoding)\n",
        "\n",
        "# text_list_of_encoded_words[1][0:20]"
      ]
    },
    {
      "cell_type": "markdown",
      "id": "e9f7e5ac-9ddc-4176-9bda-62e008890ef4",
      "metadata": {
        "id": "e9f7e5ac-9ddc-4176-9bda-62e008890ef4"
      },
      "source": [
        "### Dataset"
      ]
    },
    {
      "cell_type": "code",
      "execution_count": 13,
      "id": "5b4d36c0-7ae8-4be3-aac6-fb44c8e075d5",
      "metadata": {
        "colab": {
          "base_uri": "https://localhost:8080/"
        },
        "id": "5b4d36c0-7ae8-4be3-aac6-fb44c8e075d5",
        "outputId": "4b764390-1b44-4690-84ec-1e453fea7dc8"
      },
      "outputs": [
        {
          "output_type": "execute_result",
          "data": {
            "text/plain": [
              "2000.0"
            ]
          },
          "metadata": {},
          "execution_count": 13
        }
      ],
      "source": [
        "seq_size = 2000\n",
        "for i in range(len(text_list_of_words)):\n",
        "    size = len(text_list_of_words[i])\n",
        "    for _ in range(size,seq_size):\n",
        "        text_list_of_words[i].append(\"\")\n",
        "\n",
        "\n",
        "seq_lens = [len(text_list_of_words[i]) for i in range(len(text_list_of_words))]\n",
        "sum(seq_lens)/len(text_list_of_words)"
      ]
    },
    {
      "cell_type": "code",
      "source": [
        "converted_words = {}"
      ],
      "metadata": {
        "id": "-Q3ubWyRs4Lm"
      },
      "id": "-Q3ubWyRs4Lm",
      "execution_count": 28,
      "outputs": []
    },
    {
      "cell_type": "code",
      "source": [
        "tokenizer = AutoTokenizer.from_pretrained(\"cointegrated/rubert-tiny\")\n",
        "model = AutoModel.from_pretrained(\"cointegrated/rubert-tiny\")\n",
        "device = \"cuda\" if torch.cuda.is_available() else \"cpu\"\n",
        "model = model.to(device)\n",
        "\n",
        "def embed_bert_cls(text):\n",
        "    t = tokenizer(text, padding=True, truncation=True, return_tensors='pt')\n",
        "    with torch.no_grad():\n",
        "        model_output = model(**{k: v.to(model.device) for k, v in t.items()})\n",
        "    embeddings = model_output.last_hidden_state[:, 0, :]\n",
        "    embeddings = torch.nn.functional.normalize(embeddings)\n",
        "    return embeddings[0]#.cpu().numpy()\n",
        "\n",
        "\n",
        "def get_converted_embedding(word):\n",
        "  if not( word in converted_words.keys() ):\n",
        "    converted_words[word] = embed_bert_cls(word)\n",
        "  return converted_words[word]\n",
        "\n",
        "def get_text_embedding(text):\n",
        "    text_embedding = []\n",
        "    for w in text:\n",
        "        w_embedding = get_converted_embedding(w)\n",
        "        text_embedding.append(w_embedding)\n",
        "    #text_embedding = np.array(text_embedding)\n",
        "    return torch.stack(text_embedding)\n",
        "\n",
        "text_embedding_list = []\n",
        "for text in tqdm(text_list_of_words[0:700]):\n",
        "    text_embedding_list.append(get_text_embedding(text).cpu().numpy())\n"
      ],
      "metadata": {
        "colab": {
          "base_uri": "https://localhost:8080/"
        },
        "id": "pL8TsY4jjzci",
        "outputId": "5f8b7643-b27f-4ae4-acb1-af3e1f3add8c"
      },
      "id": "pL8TsY4jjzci",
      "execution_count": 41,
      "outputs": [
        {
          "output_type": "stream",
          "name": "stderr",
          "text": [
            "Some weights of the model checkpoint at cointegrated/rubert-tiny were not used when initializing BertModel: ['cls.predictions.transform.dense.bias', 'cls.seq_relationship.bias', 'cls.predictions.transform.LayerNorm.weight', 'cls.predictions.decoder.weight', 'cls.predictions.bias', 'cls.predictions.decoder.bias', 'cls.seq_relationship.weight', 'cls.predictions.transform.dense.weight', 'cls.predictions.transform.LayerNorm.bias']\n",
            "- This IS expected if you are initializing BertModel from the checkpoint of a model trained on another task or with another architecture (e.g. initializing a BertForSequenceClassification model from a BertForPreTraining model).\n",
            "- This IS NOT expected if you are initializing BertModel from the checkpoint of a model that you expect to be exactly identical (initializing a BertForSequenceClassification model from a BertForSequenceClassification model).\n",
            "100%|██████████| 700/700 [00:03<00:00, 231.60it/s]\n"
          ]
        }
      ]
    },
    {
      "cell_type": "code",
      "source": [
        "embed_bert_cls([\"слово\",\"слово\",\"слово\"]).shape"
      ],
      "metadata": {
        "colab": {
          "base_uri": "https://localhost:8080/"
        },
        "id": "onvKRBvEninq",
        "outputId": "8ceca87d-f229-4455-9ed0-b6a7a6cdae56"
      },
      "id": "onvKRBvEninq",
      "execution_count": 22,
      "outputs": [
        {
          "output_type": "execute_result",
          "data": {
            "text/plain": [
              "torch.Size([312])"
            ]
          },
          "metadata": {},
          "execution_count": 22
        }
      ]
    },
    {
      "cell_type": "code",
      "source": [],
      "metadata": {
        "id": "yzL9Q8YtkDB_"
      },
      "id": "yzL9Q8YtkDB_",
      "execution_count": 30,
      "outputs": []
    },
    {
      "cell_type": "code",
      "execution_count": 58,
      "id": "35b49e8e-977b-49ab-adac-1030243769cc",
      "metadata": {
        "id": "35b49e8e-977b-49ab-adac-1030243769cc"
      },
      "outputs": [],
      "source": [
        "class BERTDataset(Dataset):\n",
        "    def __init__(self, text_embedding_list,word_position_list,class_vals):\n",
        "        self.text_embedding_list = text_embedding_list\n",
        "        self.word_position_list = word_position_list\n",
        "        self.class_val = class_vals\n",
        "        self.device = \"cuda\" if torch.cuda.is_available() else \"cpu\"\n",
        "        \n",
        "        #self.tokenizer = AutoTokenizer.from_pretrained(\"cointegrated/rubert-tiny\")\n",
        "        #self.model = AutoModel.from_pretrained(\"cointegrated/rubert-tiny\")\n",
        "        #self.model.to(self.device)\n",
        "\n",
        "    def __len__(self):\n",
        "        return len(self.text_embedding_list)\n",
        "    \n",
        "    # def embed_bert_cls(self,text):\n",
        "        \n",
        "        \n",
        "    #     t = self.tokenizer(text, padding=True, truncation=True, return_tensors='pt')\n",
        "    #     with torch.no_grad():\n",
        "    #         model_output = self.model(**{k: v.to(model.device) for k, v in t.items()})\n",
        "    #     embeddings = model_output.last_hidden_state[:, 0, :]\n",
        "    #     embeddings = torch.nn.functional.normalize(embeddings)\n",
        "    #     return embeddings[0]#.cpu().numpy()\n",
        "    \n",
        "    # def get_text_embedding(self,text):\n",
        "    #     text_embedding = []\n",
        "    #     for w in text:\n",
        "    #         w_embedding = self.embed_bert_cls(w)\n",
        "    #         text_embedding.append(w_embedding)\n",
        "    #     #text_embedding = np.array(text_embedding)\n",
        "    #     return torch.stack(text_embedding)\n",
        "    \n",
        "    def __getitem__(self, idx):\n",
        "        text_embedding = torch.tensor(text_embedding_list[idx])\n",
        "        \n",
        "        label = torch.tensor(word_position_list[idx])\n",
        "        \n",
        "        start,end = word_position_list[idx][0],word_position_list[idx][1]\n",
        "        label_seq = torch.zeros(2000)\n",
        "        if (start!=end):\n",
        "            label_seq[start:end] = 1\n",
        "        \n",
        "        class_code = torch.tensor([0.,1.]) if self.class_val[idx]==1 else torch.tensor([1.,0.])\n",
        "        \n",
        "        text_embedding = text_embedding.to(self.device)\n",
        "        label_seq = label_seq.to(self.device)\n",
        "        class_code = class_code.to(self.device)\n",
        "        return text_embedding,label_seq, class_code#,label"
      ]
    },
    {
      "cell_type": "code",
      "execution_count": 59,
      "id": "80560a32-723f-410e-8571-04c5245478bc",
      "metadata": {
        "id": "80560a32-723f-410e-8571-04c5245478bc"
      },
      "outputs": [],
      "source": [
        "train_idx,test_idx = train_test_split(np.arange(len(text_embedding_list)), test_size=0.2, random_state=42)"
      ]
    },
    {
      "cell_type": "code",
      "execution_count": 61,
      "id": "5e386aa7-9177-40ba-ac86-19364db36787",
      "metadata": {
        "id": "5e386aa7-9177-40ba-ac86-19364db36787"
      },
      "outputs": [],
      "source": [
        "batch_size = 100\n",
        "#Data\n",
        "train_data = BERTDataset(list(pd.Series(text_embedding_list)[train_idx]),\n",
        "                        list(pd.Series(output_word_position_list)[train_idx]),\n",
        "                        list(pd.Series(class_vals)[train_idx]))\n",
        "test_data = BERTDataset(list(pd.Series(text_embedding_list)[test_idx]),\n",
        "                        list(pd.Series(output_word_position_list)[test_idx]),\n",
        "                        list(\n",
        "                            pd.Series(class_vals)[test_idx]))\n",
        "\n",
        "train_dataloader = DataLoader(train_data, batch_size=batch_size, shuffle=True)\n",
        "test_dataloader = DataLoader(test_data, batch_size=batch_size, shuffle=True)"
      ]
    },
    {
      "cell_type": "markdown",
      "id": "1a7798b7-aea8-4b60-8711-43bf1a4fe7d0",
      "metadata": {
        "id": "1a7798b7-aea8-4b60-8711-43bf1a4fe7d0"
      },
      "source": [
        "## Model"
      ]
    },
    {
      "cell_type": "code",
      "execution_count": 71,
      "id": "ac119603-3aed-400e-86ec-e6ebcc00403f",
      "metadata": {
        "id": "ac119603-3aed-400e-86ec-e6ebcc00403f"
      },
      "outputs": [],
      "source": [
        "class LSTMModel(torch.nn.Module):\n",
        "\n",
        "    def __init__(self):\n",
        "        super(LSTMModel, self).__init__()\n",
        "        self.device = \"cuda\" if torch.cuda.is_available() else \"cpu\"\n",
        "        \n",
        "        self.lstm1 = torch.nn.LSTM(input_size =312,hidden_size = 3,num_layers = 1)\n",
        "        self.linear1 = torch.nn.Linear(2, 2000*3)\n",
        "        \n",
        "        self.lstm2 = torch.nn.LSTM(input_size = 3,hidden_size = 1,num_layers = 2)\n",
        "        \n",
        "        self.linear2 = torch.nn.Linear(2000, 2000)\n",
        "        \n",
        "        self.softmax = torch.nn.Softmax()\n",
        "\n",
        "    def forward(self, seq,c):\n",
        "        \n",
        "        class_seq = self.linear1(c)\n",
        "        \n",
        "        h_0 = torch.autograd.Variable(torch.zeros(1, 2000, 3).to(self.device))\n",
        "        c_0 = torch.autograd.Variable(torch.zeros(1, 2000, 3).to(self.device))\n",
        "\n",
        "        output, (final_hidden_state, final_cell_state) = self.lstm1(seq, (h_0, c_0))\n",
        "        output = output.reshape(100,-1) + class_seq\n",
        "        output = output.reshape(2000,3)\n",
        "        \n",
        "        h_0 = torch.autograd.Variable(torch.zeros(1, batch_size, 2000).to(self.device))\n",
        "        c_0 = torch.autograd.Variable(torch.zeros(1, batch_size, 2000).to(self.device))\n",
        "\n",
        "        output, (final_hidden_state, final_cell_state) = self.lstm2(output, (h_0, c_0))\n",
        "        output = self.linear2(output)\n",
        "        return self.softmax(output)"
      ]
    },
    {
      "cell_type": "code",
      "execution_count": 72,
      "id": "736ff2b0-a01a-4641-be65-e740f09ed1e6",
      "metadata": {
        "id": "736ff2b0-a01a-4641-be65-e740f09ed1e6"
      },
      "outputs": [],
      "source": [
        "#Train\n",
        "def train(model,dataloader,loss,opt,train_size):\n",
        "    model.train()\n",
        "    current_loss = 0\n",
        "    current_acc = 0\n",
        "    \n",
        "    for step, (text,label_seq,class_code) in enumerate(dataloader):\n",
        "        res = model(text,class_code)\n",
        "\n",
        "        l_val = loss(res, label_seq)\n",
        "        current_loss += l_val\n",
        "        current_acc += (res==label_seq).sum()\n",
        "\n",
        "        l_val.backward()\n",
        "        opt.step()\n",
        "\n",
        "    current_loss /= train_size\n",
        "    current_acc /= train_size\n",
        "    \n",
        "    return current_loss, current_acc\n",
        "    "
      ]
    },
    {
      "cell_type": "code",
      "execution_count": 73,
      "id": "ff83656e-d351-481b-b521-f9e7464d73d9",
      "metadata": {
        "id": "ff83656e-d351-481b-b521-f9e7464d73d9"
      },
      "outputs": [],
      "source": [
        "#Train\n",
        "def test(model,dataloader,loss,test_size):\n",
        "    model.eval()\n",
        "    current_loss = 0\n",
        "    current_acc = 0\n",
        "    for step, (text,label_seq,class_code) in enumerate(dataloader):\n",
        "        res = model(text,class_code)\n",
        "\n",
        "        l_val = loss(res, label_seq)\n",
        "        current_loss += l_val\n",
        "        current_acc += (res==label_seq).sum()\n",
        "\n",
        "    current_loss /= test_size\n",
        "    current_acc /= test_size\n",
        "    \n",
        "    return current_loss, current_acc\n",
        "    "
      ]
    },
    {
      "cell_type": "code",
      "execution_count": 74,
      "id": "9b2ccc9a-66ab-401d-bdee-fd9ed43837d8",
      "metadata": {
        "colab": {
          "base_uri": "https://localhost:8080/",
          "height": 417
        },
        "id": "9b2ccc9a-66ab-401d-bdee-fd9ed43837d8",
        "outputId": "695d7b0e-22ce-48fc-a10e-d185ba78a46f"
      },
      "outputs": [
        {
          "output_type": "stream",
          "name": "stderr",
          "text": [
            "  0%|          | 0/10 [00:00<?, ?it/s]\n"
          ]
        },
        {
          "output_type": "error",
          "ename": "RuntimeError",
          "evalue": "ignored",
          "traceback": [
            "\u001b[0;31m---------------------------------------------------------------------------\u001b[0m",
            "\u001b[0;31mRuntimeError\u001b[0m                              Traceback (most recent call last)",
            "\u001b[0;32m<ipython-input-74-79aa52fd2278>\u001b[0m in \u001b[0;36m<cell line: 12>\u001b[0;34m()\u001b[0m\n\u001b[1;32m     12\u001b[0m \u001b[0;32mfor\u001b[0m \u001b[0mi\u001b[0m \u001b[0;32min\u001b[0m \u001b[0mtqdm\u001b[0m\u001b[0;34m(\u001b[0m\u001b[0mrange\u001b[0m\u001b[0;34m(\u001b[0m\u001b[0mepoch\u001b[0m\u001b[0;34m)\u001b[0m\u001b[0;34m)\u001b[0m\u001b[0;34m:\u001b[0m\u001b[0;34m\u001b[0m\u001b[0;34m\u001b[0m\u001b[0m\n\u001b[1;32m     13\u001b[0m \u001b[0;34m\u001b[0m\u001b[0m\n\u001b[0;32m---> 14\u001b[0;31m     \u001b[0mtrain_l\u001b[0m\u001b[0;34m,\u001b[0m\u001b[0mtrain_acc\u001b[0m \u001b[0;34m=\u001b[0m \u001b[0mtrain\u001b[0m\u001b[0;34m(\u001b[0m\u001b[0mmodel\u001b[0m\u001b[0;34m,\u001b[0m\u001b[0mtrain_dataloader\u001b[0m\u001b[0;34m,\u001b[0m\u001b[0mloss\u001b[0m\u001b[0;34m,\u001b[0m\u001b[0mopt\u001b[0m\u001b[0;34m,\u001b[0m\u001b[0mtrain_size\u001b[0m\u001b[0;34m=\u001b[0m\u001b[0mlen\u001b[0m\u001b[0;34m(\u001b[0m\u001b[0mtrain_idx\u001b[0m\u001b[0;34m)\u001b[0m\u001b[0;34m)\u001b[0m\u001b[0;34m\u001b[0m\u001b[0;34m\u001b[0m\u001b[0m\n\u001b[0m\u001b[1;32m     15\u001b[0m     \u001b[0mtest_l\u001b[0m\u001b[0;34m,\u001b[0m\u001b[0mtest_acc\u001b[0m \u001b[0;34m=\u001b[0m \u001b[0mtest\u001b[0m\u001b[0;34m(\u001b[0m\u001b[0mmodel\u001b[0m\u001b[0;34m,\u001b[0m\u001b[0mtest_dataloader\u001b[0m\u001b[0;34m,\u001b[0m\u001b[0mloss\u001b[0m\u001b[0;34m,\u001b[0m\u001b[0mtest_size\u001b[0m\u001b[0;34m=\u001b[0m\u001b[0mlen\u001b[0m\u001b[0;34m(\u001b[0m\u001b[0mtest_idx\u001b[0m\u001b[0;34m)\u001b[0m\u001b[0;34m)\u001b[0m\u001b[0;34m\u001b[0m\u001b[0;34m\u001b[0m\u001b[0m\n\u001b[1;32m     16\u001b[0m \u001b[0;34m\u001b[0m\u001b[0m\n",
            "\u001b[0;32m<ipython-input-72-cd4898f63955>\u001b[0m in \u001b[0;36mtrain\u001b[0;34m(model, dataloader, loss, opt, train_size)\u001b[0m\n\u001b[1;32m      6\u001b[0m \u001b[0;34m\u001b[0m\u001b[0m\n\u001b[1;32m      7\u001b[0m     \u001b[0;32mfor\u001b[0m \u001b[0mstep\u001b[0m\u001b[0;34m,\u001b[0m \u001b[0;34m(\u001b[0m\u001b[0mtext\u001b[0m\u001b[0;34m,\u001b[0m\u001b[0mlabel_seq\u001b[0m\u001b[0;34m,\u001b[0m\u001b[0mclass_code\u001b[0m\u001b[0;34m)\u001b[0m \u001b[0;32min\u001b[0m \u001b[0menumerate\u001b[0m\u001b[0;34m(\u001b[0m\u001b[0mdataloader\u001b[0m\u001b[0;34m)\u001b[0m\u001b[0;34m:\u001b[0m\u001b[0;34m\u001b[0m\u001b[0;34m\u001b[0m\u001b[0m\n\u001b[0;32m----> 8\u001b[0;31m         \u001b[0mres\u001b[0m \u001b[0;34m=\u001b[0m \u001b[0mmodel\u001b[0m\u001b[0;34m(\u001b[0m\u001b[0mtext\u001b[0m\u001b[0;34m,\u001b[0m\u001b[0mclass_code\u001b[0m\u001b[0;34m)\u001b[0m\u001b[0;34m\u001b[0m\u001b[0;34m\u001b[0m\u001b[0m\n\u001b[0m\u001b[1;32m      9\u001b[0m \u001b[0;34m\u001b[0m\u001b[0m\n\u001b[1;32m     10\u001b[0m         \u001b[0ml_val\u001b[0m \u001b[0;34m=\u001b[0m \u001b[0mloss\u001b[0m\u001b[0;34m(\u001b[0m\u001b[0mres\u001b[0m\u001b[0;34m,\u001b[0m \u001b[0mlabel_seq\u001b[0m\u001b[0;34m)\u001b[0m\u001b[0;34m\u001b[0m\u001b[0;34m\u001b[0m\u001b[0m\n",
            "\u001b[0;32m/usr/local/lib/python3.9/dist-packages/torch/nn/modules/module.py\u001b[0m in \u001b[0;36m_call_impl\u001b[0;34m(self, *args, **kwargs)\u001b[0m\n\u001b[1;32m   1499\u001b[0m                 \u001b[0;32mor\u001b[0m \u001b[0m_global_backward_pre_hooks\u001b[0m \u001b[0;32mor\u001b[0m \u001b[0m_global_backward_hooks\u001b[0m\u001b[0;34m\u001b[0m\u001b[0;34m\u001b[0m\u001b[0m\n\u001b[1;32m   1500\u001b[0m                 or _global_forward_hooks or _global_forward_pre_hooks):\n\u001b[0;32m-> 1501\u001b[0;31m             \u001b[0;32mreturn\u001b[0m \u001b[0mforward_call\u001b[0m\u001b[0;34m(\u001b[0m\u001b[0;34m*\u001b[0m\u001b[0margs\u001b[0m\u001b[0;34m,\u001b[0m \u001b[0;34m**\u001b[0m\u001b[0mkwargs\u001b[0m\u001b[0;34m)\u001b[0m\u001b[0;34m\u001b[0m\u001b[0;34m\u001b[0m\u001b[0m\n\u001b[0m\u001b[1;32m   1502\u001b[0m         \u001b[0;31m# Do not call functions when jit is used\u001b[0m\u001b[0;34m\u001b[0m\u001b[0;34m\u001b[0m\u001b[0m\n\u001b[1;32m   1503\u001b[0m         \u001b[0mfull_backward_hooks\u001b[0m\u001b[0;34m,\u001b[0m \u001b[0mnon_full_backward_hooks\u001b[0m \u001b[0;34m=\u001b[0m \u001b[0;34m[\u001b[0m\u001b[0;34m]\u001b[0m\u001b[0;34m,\u001b[0m \u001b[0;34m[\u001b[0m\u001b[0;34m]\u001b[0m\u001b[0;34m\u001b[0m\u001b[0;34m\u001b[0m\u001b[0m\n",
            "\u001b[0;32m<ipython-input-71-9fbc2bf255f3>\u001b[0m in \u001b[0;36mforward\u001b[0;34m(self, seq, c)\u001b[0m\n\u001b[1;32m     23\u001b[0m         \u001b[0moutput\u001b[0m\u001b[0;34m,\u001b[0m \u001b[0;34m(\u001b[0m\u001b[0mfinal_hidden_state\u001b[0m\u001b[0;34m,\u001b[0m \u001b[0mfinal_cell_state\u001b[0m\u001b[0;34m)\u001b[0m \u001b[0;34m=\u001b[0m \u001b[0mself\u001b[0m\u001b[0;34m.\u001b[0m\u001b[0mlstm1\u001b[0m\u001b[0;34m(\u001b[0m\u001b[0mseq\u001b[0m\u001b[0;34m,\u001b[0m \u001b[0;34m(\u001b[0m\u001b[0mh_0\u001b[0m\u001b[0;34m,\u001b[0m \u001b[0mc_0\u001b[0m\u001b[0;34m)\u001b[0m\u001b[0;34m)\u001b[0m\u001b[0;34m\u001b[0m\u001b[0;34m\u001b[0m\u001b[0m\n\u001b[1;32m     24\u001b[0m         \u001b[0moutput\u001b[0m \u001b[0;34m=\u001b[0m \u001b[0moutput\u001b[0m\u001b[0;34m.\u001b[0m\u001b[0mreshape\u001b[0m\u001b[0;34m(\u001b[0m\u001b[0;36m100\u001b[0m\u001b[0;34m,\u001b[0m\u001b[0;34m-\u001b[0m\u001b[0;36m1\u001b[0m\u001b[0;34m)\u001b[0m \u001b[0;34m+\u001b[0m \u001b[0mclass_seq\u001b[0m\u001b[0;34m\u001b[0m\u001b[0;34m\u001b[0m\u001b[0m\n\u001b[0;32m---> 25\u001b[0;31m         \u001b[0moutput\u001b[0m \u001b[0;34m=\u001b[0m \u001b[0moutput\u001b[0m\u001b[0;34m.\u001b[0m\u001b[0mreshape\u001b[0m\u001b[0;34m(\u001b[0m\u001b[0;36m2000\u001b[0m\u001b[0;34m,\u001b[0m\u001b[0;36m3\u001b[0m\u001b[0;34m)\u001b[0m\u001b[0;34m\u001b[0m\u001b[0;34m\u001b[0m\u001b[0m\n\u001b[0m\u001b[1;32m     26\u001b[0m \u001b[0;34m\u001b[0m\u001b[0m\n\u001b[1;32m     27\u001b[0m         \u001b[0mh_0\u001b[0m \u001b[0;34m=\u001b[0m \u001b[0mtorch\u001b[0m\u001b[0;34m.\u001b[0m\u001b[0mautograd\u001b[0m\u001b[0;34m.\u001b[0m\u001b[0mVariable\u001b[0m\u001b[0;34m(\u001b[0m\u001b[0mtorch\u001b[0m\u001b[0;34m.\u001b[0m\u001b[0mzeros\u001b[0m\u001b[0;34m(\u001b[0m\u001b[0;36m1\u001b[0m\u001b[0;34m,\u001b[0m \u001b[0mbatch_size\u001b[0m\u001b[0;34m,\u001b[0m \u001b[0;36m2000\u001b[0m\u001b[0;34m)\u001b[0m\u001b[0;34m.\u001b[0m\u001b[0mto\u001b[0m\u001b[0;34m(\u001b[0m\u001b[0mself\u001b[0m\u001b[0;34m.\u001b[0m\u001b[0mdevice\u001b[0m\u001b[0;34m)\u001b[0m\u001b[0;34m)\u001b[0m\u001b[0;34m\u001b[0m\u001b[0;34m\u001b[0m\u001b[0m\n",
            "\u001b[0;31mRuntimeError\u001b[0m: shape '[2000, 3]' is invalid for input of size 600000"
          ]
        }
      ],
      "source": [
        "# %%capture --no-display\n",
        "device = \"cuda\" if torch.cuda.is_available() else \"cpu\"\n",
        "model = LSTMModel()\n",
        "model = model.to(device)\n",
        "opt = torch.optim.Adam(model.parameters(), lr=0.001, betas=(0.7, 0.899))\n",
        "loss = torch.nn.MSELoss()\n",
        "epoch = 10\n",
        "\n",
        "loss_vals = [[],[]]\n",
        "acc = [[],[]]\n",
        "\n",
        "for i in tqdm(range(epoch)):\n",
        "    \n",
        "    train_l,train_acc = train(model,train_dataloader,loss,opt,train_size=len(train_idx))\n",
        "    test_l,test_acc = test(model,test_dataloader,loss,test_size=len(test_idx))\n",
        "\n",
        "    loss_vals[0].append(train_l)\n",
        "    loss_vals[1].append(test_l)\n",
        "\n",
        "    acc[0].append(train_acc)\n",
        "    acc[1].append(test_acc)\n",
        "    #clear_output(wait=True)\n",
        "    "
      ]
    },
    {
      "cell_type": "code",
      "source": [],
      "metadata": {
        "id": "2C2YGERXil0a"
      },
      "id": "2C2YGERXil0a",
      "execution_count": null,
      "outputs": []
    }
  ],
  "metadata": {
    "accelerator": "GPU",
    "colab": {
      "provenance": []
    },
    "gpuClass": "standard",
    "kernelspec": {
      "display_name": "Python 3 (ipykernel)",
      "language": "python",
      "name": "python3"
    },
    "language_info": {
      "codemirror_mode": {
        "name": "ipython",
        "version": 3
      },
      "file_extension": ".py",
      "mimetype": "text/x-python",
      "name": "python",
      "nbconvert_exporter": "python",
      "pygments_lexer": "ipython3",
      "version": "3.10.9"
    }
  },
  "nbformat": 4,
  "nbformat_minor": 5
}