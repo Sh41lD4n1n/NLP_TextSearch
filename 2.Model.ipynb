{
 "cells": [
  {
   "cell_type": "code",
   "execution_count": 2,
   "id": "ca244b39-fe19-4b08-9058-d7612eaa5d54",
   "metadata": {},
   "outputs": [],
   "source": [
    "#!pip install transformers sentencepiece"
   ]
  },
  {
   "cell_type": "code",
   "execution_count": 3,
   "id": "d7622a9c-a2ed-41ca-8b8a-8302443246c7",
   "metadata": {},
   "outputs": [],
   "source": [
    "from utils.data_processing import process_train_df,df_to_words_list\n",
    "import pandas as pd\n",
    "\n",
    "import torch\n",
    "from transformers import AutoTokenizer, AutoModel"
   ]
  },
  {
   "cell_type": "markdown",
   "id": "531d2d8c-8f51-4db5-bc6f-765139e5ad25",
   "metadata": {},
   "source": [
    "# Model"
   ]
  },
  {
   "cell_type": "markdown",
   "id": "ca5fcb45-c465-4ab2-af98-904e95e1261b",
   "metadata": {},
   "source": [
    "## Data Processing"
   ]
  },
  {
   "cell_type": "code",
   "execution_count": 4,
   "id": "0199d57b-40a8-49e2-bb44-bc35720e376d",
   "metadata": {},
   "outputs": [
    {
     "data": {
      "text/html": [
       "<div>\n",
       "<style scoped>\n",
       "    .dataframe tbody tr th:only-of-type {\n",
       "        vertical-align: middle;\n",
       "    }\n",
       "\n",
       "    .dataframe tbody tr th {\n",
       "        vertical-align: top;\n",
       "    }\n",
       "\n",
       "    .dataframe thead th {\n",
       "        text-align: right;\n",
       "    }\n",
       "</style>\n",
       "<table border=\"1\" class=\"dataframe\">\n",
       "  <thead>\n",
       "    <tr style=\"text-align: right;\">\n",
       "      <th></th>\n",
       "      <th>id</th>\n",
       "      <th>text</th>\n",
       "      <th>label</th>\n",
       "      <th>text_output</th>\n",
       "      <th>answer_start</th>\n",
       "      <th>answer_end</th>\n",
       "    </tr>\n",
       "  </thead>\n",
       "  <tbody>\n",
       "    <tr>\n",
       "      <th>0</th>\n",
       "      <td>809436509</td>\n",
       "      <td>Извещение о проведении открытого конкурса в эл...</td>\n",
       "      <td>обеспечение исполнения контракта</td>\n",
       "      <td>Размер обеспечения исполнения контракта 6593.2...</td>\n",
       "      <td>1279</td>\n",
       "      <td>1343</td>\n",
       "    </tr>\n",
       "    <tr>\n",
       "      <th>1</th>\n",
       "      <td>854885310</td>\n",
       "      <td>ТРЕБОВАНИЯ К СОДЕРЖАНИЮ ЗАЯВКИ участника запро...</td>\n",
       "      <td>обеспечение исполнения контракта</td>\n",
       "      <td>Поставщик должен предоставить обеспечение испо...</td>\n",
       "      <td>1222</td>\n",
       "      <td>1318</td>\n",
       "    </tr>\n",
       "    <tr>\n",
       "      <th>2</th>\n",
       "      <td>4382157</td>\n",
       "      <td>Извещение о проведении электронного аукциона д...</td>\n",
       "      <td>обеспечение исполнения контракта</td>\n",
       "      <td>Размер обеспечения исполнения контракта 10.00%</td>\n",
       "      <td>1297</td>\n",
       "      <td>1343</td>\n",
       "    </tr>\n",
       "    <tr>\n",
       "      <th>3</th>\n",
       "      <td>184555082</td>\n",
       "      <td>Извещение о проведении электронного аукциона д...</td>\n",
       "      <td>обеспечение исполнения контракта</td>\n",
       "      <td>Размер обеспечения исполнения контракта 10.00%</td>\n",
       "      <td>1304</td>\n",
       "      <td>1350</td>\n",
       "    </tr>\n",
       "  </tbody>\n",
       "</table>\n",
       "</div>"
      ],
      "text/plain": [
       "          id                                               text  \\\n",
       "0  809436509  Извещение о проведении открытого конкурса в эл...   \n",
       "1  854885310  ТРЕБОВАНИЯ К СОДЕРЖАНИЮ ЗАЯВКИ участника запро...   \n",
       "2    4382157  Извещение о проведении электронного аукциона д...   \n",
       "3  184555082  Извещение о проведении электронного аукциона д...   \n",
       "\n",
       "                              label  \\\n",
       "0  обеспечение исполнения контракта   \n",
       "1  обеспечение исполнения контракта   \n",
       "2  обеспечение исполнения контракта   \n",
       "3  обеспечение исполнения контракта   \n",
       "\n",
       "                                         text_output  answer_start  answer_end  \n",
       "0  Размер обеспечения исполнения контракта 6593.2...          1279        1343  \n",
       "1  Поставщик должен предоставить обеспечение испо...          1222        1318  \n",
       "2     Размер обеспечения исполнения контракта 10.00%          1297        1343  \n",
       "3     Размер обеспечения исполнения контракта 10.00%          1304        1350  "
      ]
     },
     "execution_count": 4,
     "metadata": {},
     "output_type": "execute_result"
    }
   ],
   "source": [
    "df_train = pd.read_json(\"dataset/train.json\")\n",
    "df_train = process_train_df(df_train)\n",
    "df_train.head(4)"
   ]
  },
  {
   "cell_type": "code",
   "execution_count": 5,
   "id": "3dbdbdcf-1962-44c8-96af-e102a559b373",
   "metadata": {},
   "outputs": [],
   "source": [
    "text_list_of_words,text_all_words_list = df_to_words_list(df_train)"
   ]
  },
  {
   "cell_type": "code",
   "execution_count": 6,
   "id": "ac031915-4545-47da-8da4-b506265de2e8",
   "metadata": {},
   "outputs": [
    {
     "data": {
      "text/plain": [
       "['требования',\n",
       " '<sw>',\n",
       " 'содержанию',\n",
       " 'заявки',\n",
       " 'участника',\n",
       " 'запроса',\n",
       " 'котировок',\n",
       " '<sw>',\n",
       " 'электронной',\n",
       " 'форме',\n",
       " 'заявка',\n",
       " '<sw>',\n",
       " 'участие',\n",
       " '<sw>',\n",
       " 'запросе',\n",
       " 'котировок',\n",
       " '<sw>',\n",
       " 'электронной',\n",
       " 'форме',\n",
       " 'должна']"
      ]
     },
     "execution_count": 6,
     "metadata": {},
     "output_type": "execute_result"
    }
   ],
   "source": [
    "text_list_of_words[1][0:20]"
   ]
  },
  {
   "cell_type": "markdown",
   "id": "ae8dce1b-1fdf-470f-ae81-9311f3560ec7",
   "metadata": {},
   "source": [
    "### Embeding\n",
    "\n",
    "Отдельное обучение\n",
    "- word to vec + PCA\n",
    "- BERT\n",
    "- word2vec + Simple ML model"
   ]
  },
  {
   "cell_type": "code",
   "execution_count": 11,
   "id": "27d158ec-ec8d-4908-8b92-969394c998b7",
   "metadata": {},
   "outputs": [
    {
     "data": {
      "text/plain": [
       "519589"
      ]
     },
     "execution_count": 11,
     "metadata": {},
     "output_type": "execute_result"
    }
   ],
   "source": [
    "len(text_all_words_list)"
   ]
  },
  {
   "cell_type": "markdown",
   "id": "6054eb18-1e59-4a3c-a06d-093cadb0083a",
   "metadata": {},
   "source": [
    "#### Word to digit"
   ]
  },
  {
   "cell_type": "code",
   "execution_count": 10,
   "id": "bf46c929-f461-4ce1-b011-42278cfa67bc",
   "metadata": {},
   "outputs": [
    {
     "data": {
      "text/plain": [
       "[85, 1, 143, 32, 144, 145, 146, 1, 5, 6, 147, 1, 33, 1, 148, 146, 1, 5, 6, 149]"
      ]
     },
     "execution_count": 10,
     "metadata": {},
     "output_type": "execute_result"
    }
   ],
   "source": [
    "words_dicts = {}\n",
    "text_list_of_encoded_words = []\n",
    "for text in text_list_of_words:\n",
    "    current_encoding = []\n",
    "    for w in text:\n",
    "        if w not in words_dicts.keys():\n",
    "            words_dicts[w] = len(words_dicts)\n",
    "        current_encoding.append(words_dicts[w])\n",
    "    text_list_of_encoded_words.append(current_encoding)\n",
    "\n",
    "text_list_of_encoded_words[1][0:20]"
   ]
  },
  {
   "cell_type": "markdown",
   "id": "e9f7e5ac-9ddc-4176-9bda-62e008890ef4",
   "metadata": {},
   "source": [
    "### BERT embeding"
   ]
  },
  {
   "cell_type": "code",
   "execution_count": null,
   "id": "d8a0e4dc-6f1e-4d51-a28d-1d526637fd1c",
   "metadata": {},
   "outputs": [],
   "source": [
    "tokenizer = AutoTokenizer.from_pretrained(\"cointegrated/rubert-tiny\")\n",
    "model = AutoModel.from_pretrained(\"cointegrated/rubert-tiny\")\n",
    "\n",
    "def embed_bert_cls(text, model, tokenizer):\n",
    "    t = tokenizer(text, padding=True, truncation=True, return_tensors='pt')\n",
    "    with torch.no_grad():\n",
    "        model_output = model(**{k: v.to(model.device) for k, v in t.items()})\n",
    "    embeddings = model_output.last_hidden_state[:, 0, :]\n",
    "    embeddings = torch.nn.functional.normalize(embeddings)\n",
    "    return embeddings[0].cpu().numpy()"
   ]
  },
  {
   "cell_type": "code",
   "execution_count": null,
   "id": "35b49e8e-977b-49ab-adac-1030243769cc",
   "metadata": {},
   "outputs": [],
   "source": [
    "class CustomImageDataset(Dataset):\n",
    "    def __init__(self, text_list_of_words):\n",
    "        self.text_list_of_words = text_list_of_words\n",
    "\n",
    "    def __len__(self):\n",
    "        return len(self.text_list_of_words)\n",
    "\n",
    "    def __getitem__(self, idx):\n",
    "        \n",
    "        return image, label"
   ]
  },
  {
   "cell_type": "code",
   "execution_count": null,
   "id": "8e3076f5-ba4e-48ed-8c90-02d93bf576ff",
   "metadata": {},
   "outputs": [],
   "source": [
    "text_list_of_words"
   ]
  },
  {
   "cell_type": "markdown",
   "id": "1a7798b7-aea8-4b60-8711-43bf1a4fe7d0",
   "metadata": {},
   "source": [
    "## Model"
   ]
  },
  {
   "cell_type": "code",
   "execution_count": null,
   "id": "ac119603-3aed-400e-86ec-e6ebcc00403f",
   "metadata": {},
   "outputs": [],
   "source": []
  }
 ],
 "metadata": {
  "kernelspec": {
   "display_name": "Python 3 (ipykernel)",
   "language": "python",
   "name": "python3"
  },
  "language_info": {
   "codemirror_mode": {
    "name": "ipython",
    "version": 3
   },
   "file_extension": ".py",
   "mimetype": "text/x-python",
   "name": "python",
   "nbconvert_exporter": "python",
   "pygments_lexer": "ipython3",
   "version": "3.10.9"
  }
 },
 "nbformat": 4,
 "nbformat_minor": 5
}
