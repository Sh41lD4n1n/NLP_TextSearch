{
 "cells": [
  {
   "cell_type": "code",
   "execution_count": null,
   "id": "fce57188-9347-4a22-a23f-6f0a2fc5a78c",
   "metadata": {},
   "outputs": [],
   "source": [
    "import numpy as np\n",
    "import pandas as pd\n",
    "\n",
    "#import pandas_profiling\n",
    "import ydata_profiling\n",
    "from ydata_profiling import ProfileReport\n",
    " \n",
    "from collections import Counter\n",
    "\n",
    "import nltk\n",
    "from nltk.tokenize import sent_tokenize, word_tokenize\n",
    "from nltk.corpus import stopwords\n",
    "from nltk.probability import FreqDist\n",
    "from nltk.lm import Vocabulary\n",
    "\n",
    "import matplotlib.pyplot as plt\n",
    "%matplotlib inline"
   ]
  },
  {
   "cell_type": "code",
   "execution_count": null,
   "id": "a88fc1ff-ba42-41c5-b9fd-af1ead46a245",
   "metadata": {},
   "outputs": [],
   "source": [
    "import matplotlib.pyplot as plt"
   ]
  },
  {
   "cell_type": "code",
   "execution_count": null,
   "id": "2f4a5d7c-3f01-47db-a7bc-81f47331b5b7",
   "metadata": {},
   "outputs": [],
   "source": [
    "#import nltk\n",
    "#nltk.download('punkt')\n",
    "nltk.download('stopwords')"
   ]
  },
  {
   "cell_type": "code",
   "execution_count": null,
   "id": "976ecc14-8a93-44a9-a71d-d1fb95ef90a2",
   "metadata": {},
   "outputs": [],
   "source": [
    "stop_words = set(stopwords.words('russian'))"
   ]
  },
  {
   "cell_type": "markdown",
   "id": "bdeb11cf-44ac-4ace-b86a-13da0af0ac29",
   "metadata": {
    "tags": []
   },
   "source": [
    "# Read"
   ]
  },
  {
   "cell_type": "code",
   "execution_count": null,
   "id": "929e6d8d-e0fd-4665-b798-9b59ac992ee4",
   "metadata": {},
   "outputs": [],
   "source": [
    "df_train = pd.read_json(\"dataset/train.json\")"
   ]
  },
  {
   "cell_type": "code",
   "execution_count": null,
   "id": "560d5451-674e-4857-99fe-b7ae7a415e6e",
   "metadata": {},
   "outputs": [],
   "source": [
    "df_train.head(3)"
   ]
  },
  {
   "cell_type": "code",
   "execution_count": null,
   "id": "094cfc94-39f6-46f0-b1fe-70ed0420503b",
   "metadata": {},
   "outputs": [],
   "source": [
    "def extracted_p_process(df_extracted_part,column):\n",
    "    res = []\n",
    "    for items in list(df_extracted_part[column]):\n",
    "        if len(items)==1:\n",
    "            res.append(items[0])\n",
    "        else:\n",
    "            raise Error(\"Only one fragment expected\")\n",
    "    return pd.Series(res)"
   ]
  },
  {
   "cell_type": "code",
   "execution_count": null,
   "id": "c1cd8882-94ac-4bc5-8223-a0635ac323d7",
   "metadata": {},
   "outputs": [],
   "source": [
    "df_extracted_part = pd.DataFrame.from_records(list(df_train['extracted_part']))\n",
    "for c in df_extracted_part.columns:\n",
    "    df_extracted_part[c] = extracted_p_process(df_extracted_part,c)\n",
    "\n",
    "df_extracted_part.head(3)"
   ]
  },
  {
   "cell_type": "code",
   "execution_count": null,
   "id": "3715d377-f1d4-478a-83bd-5a45a3e72721",
   "metadata": {},
   "outputs": [],
   "source": [
    "df = pd.concat([df_train,df_extracted_part],axis=1)\n",
    "df = df.drop(['extracted_part'],axis=1)\n",
    "\n",
    "df.columns = pd.Index(['id', 'text', 'label', 'text_output', 'answer_start', 'answer_end'])\n",
    "df.head(5)"
   ]
  },
  {
   "cell_type": "code",
   "execution_count": null,
   "id": "c3d6ba97-910d-4975-b27c-82ff59f546a4",
   "metadata": {},
   "outputs": [],
   "source": []
  }
 ],
 "metadata": {
  "kernelspec": {
   "display_name": "Python 3 (ipykernel)",
   "language": "python",
   "name": "python3"
  },
  "language_info": {
   "codemirror_mode": {
    "name": "ipython",
    "version": 3
   },
   "file_extension": ".py",
   "mimetype": "text/x-python",
   "name": "python",
   "nbconvert_exporter": "python",
   "pygments_lexer": "ipython3",
   "version": "3.10.9"
  }
 },
 "nbformat": 4,
 "nbformat_minor": 5
}
