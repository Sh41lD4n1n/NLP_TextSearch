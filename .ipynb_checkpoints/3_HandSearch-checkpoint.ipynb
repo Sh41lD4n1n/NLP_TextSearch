{
 "cells": [
  {
   "cell_type": "code",
   "execution_count": 1,
   "id": "fce57188-9347-4a22-a23f-6f0a2fc5a78c",
   "metadata": {},
   "outputs": [],
   "source": [
    "import numpy as np\n",
    "import pandas as pd\n",
    "\n",
    "#import pandas_profiling\n",
    "import ydata_profiling\n",
    "from ydata_profiling import ProfileReport\n",
    " \n",
    "from collections import Counter\n",
    "\n",
    "import nltk\n",
    "from nltk.tokenize import sent_tokenize, word_tokenize\n",
    "from nltk.corpus import stopwords\n",
    "from nltk.probability import FreqDist\n",
    "from nltk.lm import Vocabulary\n",
    "\n",
    "import matplotlib.pyplot as plt\n",
    "%matplotlib inline"
   ]
  },
  {
   "cell_type": "code",
   "execution_count": 2,
   "id": "a88fc1ff-ba42-41c5-b9fd-af1ead46a245",
   "metadata": {},
   "outputs": [],
   "source": [
    "import matplotlib.pyplot as plt"
   ]
  },
  {
   "cell_type": "code",
   "execution_count": 3,
   "id": "2f4a5d7c-3f01-47db-a7bc-81f47331b5b7",
   "metadata": {},
   "outputs": [
    {
     "name": "stderr",
     "output_type": "stream",
     "text": [
      "[nltk_data] Downloading package stopwords to /home/danil-\n",
      "[nltk_data]     pass123/nltk_data...\n",
      "[nltk_data]   Package stopwords is already up-to-date!\n"
     ]
    },
    {
     "data": {
      "text/plain": [
       "True"
      ]
     },
     "execution_count": 3,
     "metadata": {},
     "output_type": "execute_result"
    }
   ],
   "source": [
    "#import nltk\n",
    "#nltk.download('punkt')\n",
    "nltk.download('stopwords')"
   ]
  },
  {
   "cell_type": "code",
   "execution_count": 4,
   "id": "976ecc14-8a93-44a9-a71d-d1fb95ef90a2",
   "metadata": {},
   "outputs": [],
   "source": [
    "stop_words = set(stopwords.words('russian'))"
   ]
  },
  {
   "cell_type": "markdown",
   "id": "bdeb11cf-44ac-4ace-b86a-13da0af0ac29",
   "metadata": {
    "tags": []
   },
   "source": [
    "# Read"
   ]
  },
  {
   "cell_type": "code",
   "execution_count": 5,
   "id": "929e6d8d-e0fd-4665-b798-9b59ac992ee4",
   "metadata": {},
   "outputs": [],
   "source": [
    "df_train = pd.read_json(\"dataset/train.json\")"
   ]
  },
  {
   "cell_type": "code",
   "execution_count": 6,
   "id": "560d5451-674e-4857-99fe-b7ae7a415e6e",
   "metadata": {},
   "outputs": [
    {
     "data": {
      "text/html": [
       "<div>\n",
       "<style scoped>\n",
       "    .dataframe tbody tr th:only-of-type {\n",
       "        vertical-align: middle;\n",
       "    }\n",
       "\n",
       "    .dataframe tbody tr th {\n",
       "        vertical-align: top;\n",
       "    }\n",
       "\n",
       "    .dataframe thead th {\n",
       "        text-align: right;\n",
       "    }\n",
       "</style>\n",
       "<table border=\"1\" class=\"dataframe\">\n",
       "  <thead>\n",
       "    <tr style=\"text-align: right;\">\n",
       "      <th></th>\n",
       "      <th>id</th>\n",
       "      <th>text</th>\n",
       "      <th>label</th>\n",
       "      <th>extracted_part</th>\n",
       "    </tr>\n",
       "  </thead>\n",
       "  <tbody>\n",
       "    <tr>\n",
       "      <th>0</th>\n",
       "      <td>809436509</td>\n",
       "      <td>Извещение о проведении открытого конкурса в эл...</td>\n",
       "      <td>обеспечение исполнения контракта</td>\n",
       "      <td>{'text': ['Размер обеспечения исполнения контр...</td>\n",
       "    </tr>\n",
       "    <tr>\n",
       "      <th>1</th>\n",
       "      <td>854885310</td>\n",
       "      <td>ТРЕБОВАНИЯ К СОДЕРЖАНИЮ ЗАЯВКИ участника запро...</td>\n",
       "      <td>обеспечение исполнения контракта</td>\n",
       "      <td>{'text': ['Поставщик должен предоставить обесп...</td>\n",
       "    </tr>\n",
       "    <tr>\n",
       "      <th>2</th>\n",
       "      <td>4382157</td>\n",
       "      <td>Извещение о проведении электронного аукциона д...</td>\n",
       "      <td>обеспечение исполнения контракта</td>\n",
       "      <td>{'text': ['Размер обеспечения исполнения контр...</td>\n",
       "    </tr>\n",
       "  </tbody>\n",
       "</table>\n",
       "</div>"
      ],
      "text/plain": [
       "          id                                               text  \\\n",
       "0  809436509  Извещение о проведении открытого конкурса в эл...   \n",
       "1  854885310  ТРЕБОВАНИЯ К СОДЕРЖАНИЮ ЗАЯВКИ участника запро...   \n",
       "2    4382157  Извещение о проведении электронного аукциона д...   \n",
       "\n",
       "                              label  \\\n",
       "0  обеспечение исполнения контракта   \n",
       "1  обеспечение исполнения контракта   \n",
       "2  обеспечение исполнения контракта   \n",
       "\n",
       "                                      extracted_part  \n",
       "0  {'text': ['Размер обеспечения исполнения контр...  \n",
       "1  {'text': ['Поставщик должен предоставить обесп...  \n",
       "2  {'text': ['Размер обеспечения исполнения контр...  "
      ]
     },
     "execution_count": 6,
     "metadata": {},
     "output_type": "execute_result"
    }
   ],
   "source": [
    "df_train.head(3)"
   ]
  },
  {
   "cell_type": "code",
   "execution_count": 7,
   "id": "094cfc94-39f6-46f0-b1fe-70ed0420503b",
   "metadata": {},
   "outputs": [],
   "source": [
    "def extracted_p_process(df_extracted_part,column):\n",
    "    res = []\n",
    "    for items in list(df_extracted_part[column]):\n",
    "        if len(items)==1:\n",
    "            res.append(items[0])\n",
    "        else:\n",
    "            raise Error(\"Only one fragment expected\")\n",
    "    return pd.Series(res)"
   ]
  },
  {
   "cell_type": "code",
   "execution_count": 8,
   "id": "c1cd8882-94ac-4bc5-8223-a0635ac323d7",
   "metadata": {},
   "outputs": [
    {
     "data": {
      "text/html": [
       "<div>\n",
       "<style scoped>\n",
       "    .dataframe tbody tr th:only-of-type {\n",
       "        vertical-align: middle;\n",
       "    }\n",
       "\n",
       "    .dataframe tbody tr th {\n",
       "        vertical-align: top;\n",
       "    }\n",
       "\n",
       "    .dataframe thead th {\n",
       "        text-align: right;\n",
       "    }\n",
       "</style>\n",
       "<table border=\"1\" class=\"dataframe\">\n",
       "  <thead>\n",
       "    <tr style=\"text-align: right;\">\n",
       "      <th></th>\n",
       "      <th>text</th>\n",
       "      <th>answer_start</th>\n",
       "      <th>answer_end</th>\n",
       "    </tr>\n",
       "  </thead>\n",
       "  <tbody>\n",
       "    <tr>\n",
       "      <th>0</th>\n",
       "      <td>Размер обеспечения исполнения контракта 6593.2...</td>\n",
       "      <td>1279</td>\n",
       "      <td>1343</td>\n",
       "    </tr>\n",
       "    <tr>\n",
       "      <th>1</th>\n",
       "      <td>Поставщик должен предоставить обеспечение испо...</td>\n",
       "      <td>1222</td>\n",
       "      <td>1318</td>\n",
       "    </tr>\n",
       "    <tr>\n",
       "      <th>2</th>\n",
       "      <td>Размер обеспечения исполнения контракта 10.00%</td>\n",
       "      <td>1297</td>\n",
       "      <td>1343</td>\n",
       "    </tr>\n",
       "  </tbody>\n",
       "</table>\n",
       "</div>"
      ],
      "text/plain": [
       "                                                text  answer_start  answer_end\n",
       "0  Размер обеспечения исполнения контракта 6593.2...          1279        1343\n",
       "1  Поставщик должен предоставить обеспечение испо...          1222        1318\n",
       "2     Размер обеспечения исполнения контракта 10.00%          1297        1343"
      ]
     },
     "execution_count": 8,
     "metadata": {},
     "output_type": "execute_result"
    }
   ],
   "source": [
    "df_extracted_part = pd.DataFrame.from_records(list(df_train['extracted_part']))\n",
    "for c in df_extracted_part.columns:\n",
    "    df_extracted_part[c] = extracted_p_process(df_extracted_part,c)\n",
    "\n",
    "df_extracted_part.head(3)"
   ]
  },
  {
   "cell_type": "code",
   "execution_count": 9,
   "id": "3715d377-f1d4-478a-83bd-5a45a3e72721",
   "metadata": {},
   "outputs": [
    {
     "data": {
      "text/html": [
       "<div>\n",
       "<style scoped>\n",
       "    .dataframe tbody tr th:only-of-type {\n",
       "        vertical-align: middle;\n",
       "    }\n",
       "\n",
       "    .dataframe tbody tr th {\n",
       "        vertical-align: top;\n",
       "    }\n",
       "\n",
       "    .dataframe thead th {\n",
       "        text-align: right;\n",
       "    }\n",
       "</style>\n",
       "<table border=\"1\" class=\"dataframe\">\n",
       "  <thead>\n",
       "    <tr style=\"text-align: right;\">\n",
       "      <th></th>\n",
       "      <th>id</th>\n",
       "      <th>text</th>\n",
       "      <th>label</th>\n",
       "      <th>text_output</th>\n",
       "      <th>answer_start</th>\n",
       "      <th>answer_end</th>\n",
       "    </tr>\n",
       "  </thead>\n",
       "  <tbody>\n",
       "    <tr>\n",
       "      <th>0</th>\n",
       "      <td>809436509</td>\n",
       "      <td>Извещение о проведении открытого конкурса в эл...</td>\n",
       "      <td>обеспечение исполнения контракта</td>\n",
       "      <td>Размер обеспечения исполнения контракта 6593.2...</td>\n",
       "      <td>1279</td>\n",
       "      <td>1343</td>\n",
       "    </tr>\n",
       "    <tr>\n",
       "      <th>1</th>\n",
       "      <td>854885310</td>\n",
       "      <td>ТРЕБОВАНИЯ К СОДЕРЖАНИЮ ЗАЯВКИ участника запро...</td>\n",
       "      <td>обеспечение исполнения контракта</td>\n",
       "      <td>Поставщик должен предоставить обеспечение испо...</td>\n",
       "      <td>1222</td>\n",
       "      <td>1318</td>\n",
       "    </tr>\n",
       "    <tr>\n",
       "      <th>2</th>\n",
       "      <td>4382157</td>\n",
       "      <td>Извещение о проведении электронного аукциона д...</td>\n",
       "      <td>обеспечение исполнения контракта</td>\n",
       "      <td>Размер обеспечения исполнения контракта 10.00%</td>\n",
       "      <td>1297</td>\n",
       "      <td>1343</td>\n",
       "    </tr>\n",
       "    <tr>\n",
       "      <th>3</th>\n",
       "      <td>184555082</td>\n",
       "      <td>Извещение о проведении электронного аукциона д...</td>\n",
       "      <td>обеспечение исполнения контракта</td>\n",
       "      <td>Размер обеспечения исполнения контракта 10.00%</td>\n",
       "      <td>1304</td>\n",
       "      <td>1350</td>\n",
       "    </tr>\n",
       "    <tr>\n",
       "      <th>4</th>\n",
       "      <td>211645258</td>\n",
       "      <td>Извещение о проведении электронного аукциона д...</td>\n",
       "      <td>обеспечение исполнения контракта</td>\n",
       "      <td>Размер обеспечения исполнения контракта 10.00%</td>\n",
       "      <td>1302</td>\n",
       "      <td>1348</td>\n",
       "    </tr>\n",
       "  </tbody>\n",
       "</table>\n",
       "</div>"
      ],
      "text/plain": [
       "          id                                               text  \\\n",
       "0  809436509  Извещение о проведении открытого конкурса в эл...   \n",
       "1  854885310  ТРЕБОВАНИЯ К СОДЕРЖАНИЮ ЗАЯВКИ участника запро...   \n",
       "2    4382157  Извещение о проведении электронного аукциона д...   \n",
       "3  184555082  Извещение о проведении электронного аукциона д...   \n",
       "4  211645258  Извещение о проведении электронного аукциона д...   \n",
       "\n",
       "                              label  \\\n",
       "0  обеспечение исполнения контракта   \n",
       "1  обеспечение исполнения контракта   \n",
       "2  обеспечение исполнения контракта   \n",
       "3  обеспечение исполнения контракта   \n",
       "4  обеспечение исполнения контракта   \n",
       "\n",
       "                                         text_output  answer_start  answer_end  \n",
       "0  Размер обеспечения исполнения контракта 6593.2...          1279        1343  \n",
       "1  Поставщик должен предоставить обеспечение испо...          1222        1318  \n",
       "2     Размер обеспечения исполнения контракта 10.00%          1297        1343  \n",
       "3     Размер обеспечения исполнения контракта 10.00%          1304        1350  \n",
       "4     Размер обеспечения исполнения контракта 10.00%          1302        1348  "
      ]
     },
     "execution_count": 9,
     "metadata": {},
     "output_type": "execute_result"
    }
   ],
   "source": [
    "df = pd.concat([df_train,df_extracted_part],axis=1)\n",
    "df = df.drop(['extracted_part'],axis=1)\n",
    "\n",
    "df.columns = pd.Index(['id', 'text', 'label', 'text_output', 'answer_start', 'answer_end'])\n",
    "df.head(5)"
   ]
  },
  {
   "cell_type": "markdown",
   "id": "a81c05cf-f46c-4bb9-96d2-7b695e6dc63a",
   "metadata": {},
   "source": [
    "## TF IDF"
   ]
  },
  {
   "cell_type": "code",
   "execution_count": 10,
   "id": "2c03c914-15f0-4db2-9c7a-af44d1760adf",
   "metadata": {},
   "outputs": [],
   "source": [
    "tokens = [\"<sw>\",  #stopword\n",
    "          \"<sot>\", #start of text\n",
    "          \"<eot>\", #end of text\n",
    "          \"<bos>\", #start of sentence\n",
    "          \"<eos>\", #start of sentence\n",
    "          \"<num>\", #number\n",
    "          \"<>\"     #exclude word\n",
    "          ]\n",
    "\n",
    "def preprocess_word(word):\n",
    "    word = word.lower()\n",
    "    return word"
   ]
  },
  {
   "cell_type": "code",
   "execution_count": 11,
   "id": "010c56d3-b9d7-4765-b70d-9da5b4bdc1c0",
   "metadata": {},
   "outputs": [],
   "source": [
    "other_word_dict = {\"stopwords\":dict(),\"numbers\":dict(),\"symbols\":dict(),\"synonims\":dict()}\n",
    "word_dict = {\"all_words\":dict(),\"output_words\":dict(),\"words_after_transform\":dict()}\n",
    "\n",
    "def collect(word):\n",
    "    collect_stopwords(word)\n",
    "    collect_numbers(word)\n",
    "    collect_symbols(word)\n",
    "    collect_words(word)\n",
    "\n",
    "    \n",
    "def collect_words(word):\n",
    "    if word in word_dict[\"all_words\"].keys():\n",
    "        word_dict[\"all_words\"][word]+=1\n",
    "    else:\n",
    "        word_dict[\"all_words\"][word] = 1\n",
    "\n",
    "def collect_output_words(word):\n",
    "    if word in word_dict[\"output_words\"].keys():\n",
    "        word_dict[\"output_words\"][word]+=1\n",
    "    else:\n",
    "        word_dict[\"output_words\"][word] = 1\n",
    "            \n",
    "def collect_words_after_transform(word):\n",
    "    if word in word_dict[\"words_after_transform\"].keys():\n",
    "        word_dict[\"words_after_transform\"][word]+=1\n",
    "    else:\n",
    "        word_dict[\"words_after_transform\"][word] = 1\n",
    "            \n",
    "    \n",
    "def collect_stopwords(word):\n",
    "    if word in stop_words:\n",
    "        if word in other_word_dict[\"stopwords\"].keys():\n",
    "            other_word_dict[\"stopwords\"][word]+=1\n",
    "        else:\n",
    "            other_word_dict[\"stopwords\"][word] = 1\n",
    "            \n",
    "def collect_numbers(word):\n",
    "    if any(char.isdigit() for char in word):\n",
    "        if word in other_word_dict[\"numbers\"].keys():\n",
    "            other_word_dict[\"numbers\"][word]+=1\n",
    "        else:\n",
    "            other_word_dict[\"numbers\"][word] = 1\n",
    "\n",
    "def collect_symbols(word):\n",
    "    if (not any(char.isalpha() for char in word) and\\\n",
    "        not any(char.isdigit() for char in word)):\n",
    "        if word in other_word_dict[\"symbols\"].keys():\n",
    "            other_word_dict[\"symbols\"][word]+=1\n",
    "        else:\n",
    "            other_word_dict[\"symbols\"][word] = 1\n",
    "            \n",
    "def collect_synonims():\n",
    "    pass"
   ]
  },
  {
   "cell_type": "code",
   "execution_count": 13,
   "id": "7931160b-fc58-40d2-b715-cfb4bd110af9",
   "metadata": {},
   "outputs": [],
   "source": [
    "#text_output_freq = {\"words\":[],\"freq\":[]}\n",
    "num_of_out_words = 0\n",
    "for text in df.text_output:\n",
    "    for w in word_tokenize(text):\n",
    "        w = preprocess_word(w)\n",
    "        collect_output_words(w)\n",
    "        num_of_out_words += 1"
   ]
  },
  {
   "cell_type": "code",
   "execution_count": 14,
   "id": "c6ff28da-9d66-44c9-9715-af1b44e92182",
   "metadata": {},
   "outputs": [],
   "source": [
    "#text_freq = {\"words\":[],\"freq\":[]}\n",
    "num_of_all_words = 0\n",
    "for text,s,e in zip(df.text,df.answer_start,df.answer_end):\n",
    "    texts = [text[:s],text[e:]]\n",
    "    for t in texts:\n",
    "        for w in word_tokenize(t):\n",
    "            w = preprocess_word(w)\n",
    "            collect_words(w)\n",
    "            num_of_all_words += 1"
   ]
  },
  {
   "cell_type": "code",
   "execution_count": 29,
   "id": "8f4248cc-73e5-4819-806a-bfe45f8c6dfe",
   "metadata": {},
   "outputs": [
    {
     "data": {
      "text/plain": [
       "'Размер обеспечения исполнения контракта 6593.25 Российский рубль'"
      ]
     },
     "execution_count": 29,
     "metadata": {},
     "output_type": "execute_result"
    }
   ],
   "source": [
    "df.text[0][df.answer_start[0]:df.answer_end[0]]"
   ]
  },
  {
   "cell_type": "code",
   "execution_count": 15,
   "id": "6ca66951-2955-4afc-857e-f2dac3af0a9b",
   "metadata": {},
   "outputs": [
    {
     "data": {
      "text/plain": [
       "23186"
      ]
     },
     "execution_count": 15,
     "metadata": {},
     "output_type": "execute_result"
    }
   ],
   "source": [
    "num_of_out_words"
   ]
  },
  {
   "cell_type": "code",
   "execution_count": null,
   "id": "1fe46fea-c94b-4b5e-9336-eec17ac66345",
   "metadata": {},
   "outputs": [],
   "source": [
    "#word_dict[\"all_words\"]\n",
    "#word_dict[\"output_words\"]"
   ]
  },
  {
   "cell_type": "code",
   "execution_count": null,
   "id": "1338d21f-67d2-42f0-bdd1-f4ab70d75d62",
   "metadata": {},
   "outputs": [],
   "source": [
    "#word_dict['all_words']"
   ]
  },
  {
   "cell_type": "code",
   "execution_count": 16,
   "id": "dd97235b-69d9-4666-925b-ba3002a02d7c",
   "metadata": {},
   "outputs": [],
   "source": [
    "word_dict_a = pd.DataFrame.from_dict(word_dict[\"all_words\"],orient='index',columns=['freq']).reset_index()\n",
    "word_dict_a['freq'] /= num_of_all_words\n",
    "word_dict_a['doc_num'] = 0\n",
    "\n",
    "word_dict_out = pd.DataFrame.from_dict(word_dict[\"output_words\"],orient='index',columns=['freq']).reset_index()\n",
    "word_dict_out['freq'] /= num_of_out_words\n",
    "word_dict_out['doc_num'] = 0"
   ]
  },
  {
   "cell_type": "code",
   "execution_count": 17,
   "id": "ba8e1337-9614-4715-b6e9-6e00b57d3bd3",
   "metadata": {},
   "outputs": [
    {
     "data": {
      "text/html": [
       "<div>\n",
       "<style scoped>\n",
       "    .dataframe tbody tr th:only-of-type {\n",
       "        vertical-align: middle;\n",
       "    }\n",
       "\n",
       "    .dataframe tbody tr th {\n",
       "        vertical-align: top;\n",
       "    }\n",
       "\n",
       "    .dataframe thead th {\n",
       "        text-align: right;\n",
       "    }\n",
       "</style>\n",
       "<table border=\"1\" class=\"dataframe\">\n",
       "  <thead>\n",
       "    <tr style=\"text-align: right;\">\n",
       "      <th></th>\n",
       "      <th>index</th>\n",
       "      <th>freq</th>\n",
       "      <th>doc_num</th>\n",
       "    </tr>\n",
       "  </thead>\n",
       "  <tbody>\n",
       "    <tr>\n",
       "      <th>0</th>\n",
       "      <td>извещение</td>\n",
       "      <td>0.001487</td>\n",
       "      <td>0</td>\n",
       "    </tr>\n",
       "    <tr>\n",
       "      <th>1</th>\n",
       "      <td>о</td>\n",
       "      <td>0.007830</td>\n",
       "      <td>0</td>\n",
       "    </tr>\n",
       "    <tr>\n",
       "      <th>2</th>\n",
       "      <td>проведении</td>\n",
       "      <td>0.002048</td>\n",
       "      <td>0</td>\n",
       "    </tr>\n",
       "    <tr>\n",
       "      <th>3</th>\n",
       "      <td>открытого</td>\n",
       "      <td>0.000204</td>\n",
       "      <td>0</td>\n",
       "    </tr>\n",
       "    <tr>\n",
       "      <th>4</th>\n",
       "      <td>конкурса</td>\n",
       "      <td>0.000205</td>\n",
       "      <td>0</td>\n",
       "    </tr>\n",
       "    <tr>\n",
       "      <th>...</th>\n",
       "      <td>...</td>\n",
       "      <td>...</td>\n",
       "      <td>...</td>\n",
       "    </tr>\n",
       "    <tr>\n",
       "      <th>21249</th>\n",
       "      <td>icm</td>\n",
       "      <td>0.000002</td>\n",
       "      <td>0</td>\n",
       "    </tr>\n",
       "    <tr>\n",
       "      <th>21250</th>\n",
       "      <td>site-x</td>\n",
       "      <td>0.000002</td>\n",
       "      <td>0</td>\n",
       "    </tr>\n",
       "    <tr>\n",
       "      <th>21251</th>\n",
       "      <td>d1802</td>\n",
       "      <td>0.000002</td>\n",
       "      <td>0</td>\n",
       "    </tr>\n",
       "    <tr>\n",
       "      <th>21252</th>\n",
       "      <td>//roseltorg.ru/</td>\n",
       "      <td>0.000002</td>\n",
       "      <td>0</td>\n",
       "    </tr>\n",
       "    <tr>\n",
       "      <th>21253</th>\n",
       "      <td>220907/0459/___</td>\n",
       "      <td>0.000002</td>\n",
       "      <td>0</td>\n",
       "    </tr>\n",
       "  </tbody>\n",
       "</table>\n",
       "<p>21254 rows × 3 columns</p>\n",
       "</div>"
      ],
      "text/plain": [
       "                 index      freq  doc_num\n",
       "0            извещение  0.001487        0\n",
       "1                    о  0.007830        0\n",
       "2           проведении  0.002048        0\n",
       "3            открытого  0.000204        0\n",
       "4             конкурса  0.000205        0\n",
       "...                ...       ...      ...\n",
       "21249              icm  0.000002        0\n",
       "21250           site-x  0.000002        0\n",
       "21251            d1802  0.000002        0\n",
       "21252  //roseltorg.ru/  0.000002        0\n",
       "21253  220907/0459/___  0.000002        0\n",
       "\n",
       "[21254 rows x 3 columns]"
      ]
     },
     "execution_count": 17,
     "metadata": {},
     "output_type": "execute_result"
    }
   ],
   "source": [
    "word_dict_a"
   ]
  },
  {
   "cell_type": "code",
   "execution_count": 18,
   "id": "b3cd7962-ac97-4504-ba9d-c7fc0e7b7e34",
   "metadata": {},
   "outputs": [
    {
     "data": {
      "text/plain": [
       "(0, 0)"
      ]
     },
     "execution_count": 18,
     "metadata": {},
     "output_type": "execute_result"
    }
   ],
   "source": [
    "for i,w in enumerate(word_dict_a.index):\n",
    "    if w in word_dict_out.index:\n",
    "        word_dict_a.loc[i,'doc_num'] = 2\n",
    "    else:\n",
    "        word_dict_a.loc[i,'doc_num'] = 1\n",
    "\n",
    "for i,w in enumerate(word_dict_out.index):\n",
    "    if w in word_dict_a.index:\n",
    "        word_dict_out.loc[i,'doc_num'] = 2\n",
    "    else:\n",
    "        word_dict_out.loc[i,'doc_num'] = 1\n",
    "(word_dict_a['doc_num']==0).sum(),(word_dict_out['doc_num']==0).sum()"
   ]
  },
  {
   "cell_type": "code",
   "execution_count": 26,
   "id": "d17ffb19-f5d9-407e-b039-4021e532844d",
   "metadata": {},
   "outputs": [
    {
     "data": {
      "text/html": [
       "<div>\n",
       "<style scoped>\n",
       "    .dataframe tbody tr th:only-of-type {\n",
       "        vertical-align: middle;\n",
       "    }\n",
       "\n",
       "    .dataframe tbody tr th {\n",
       "        vertical-align: top;\n",
       "    }\n",
       "\n",
       "    .dataframe thead th {\n",
       "        text-align: right;\n",
       "    }\n",
       "</style>\n",
       "<table border=\"1\" class=\"dataframe\">\n",
       "  <thead>\n",
       "    <tr style=\"text-align: right;\">\n",
       "      <th></th>\n",
       "      <th>index</th>\n",
       "      <th>freq</th>\n",
       "      <th>doc_num</th>\n",
       "      <th>idf</th>\n",
       "    </tr>\n",
       "  </thead>\n",
       "  <tbody>\n",
       "  </tbody>\n",
       "</table>\n",
       "</div>"
      ],
      "text/plain": [
       "Empty DataFrame\n",
       "Columns: [index, freq, doc_num, idf]\n",
       "Index: []"
      ]
     },
     "execution_count": 26,
     "metadata": {},
     "output_type": "execute_result"
    }
   ],
   "source": [
    "word_dict_out[word_dict_out['doc_num']==1]"
   ]
  },
  {
   "cell_type": "code",
   "execution_count": 20,
   "id": "1648d545-6a59-449f-86d2-7076361a8bd8",
   "metadata": {},
   "outputs": [],
   "source": [
    "word_dict_a['idf'] = np.log(2/word_dict_a['doc_num'])\n",
    "word_dict_out['idf'] = np.log(2/word_dict_out['doc_num'])"
   ]
  },
  {
   "cell_type": "code",
   "execution_count": null,
   "id": "34ac5a23-ef04-4c95-8af4-eff140e941e5",
   "metadata": {},
   "outputs": [],
   "source": []
  }
 ],
 "metadata": {
  "kernelspec": {
   "display_name": "Python 3 (ipykernel)",
   "language": "python",
   "name": "python3"
  },
  "language_info": {
   "codemirror_mode": {
    "name": "ipython",
    "version": 3
   },
   "file_extension": ".py",
   "mimetype": "text/x-python",
   "name": "python",
   "nbconvert_exporter": "python",
   "pygments_lexer": "ipython3",
   "version": "3.10.9"
  }
 },
 "nbformat": 4,
 "nbformat_minor": 5
}
