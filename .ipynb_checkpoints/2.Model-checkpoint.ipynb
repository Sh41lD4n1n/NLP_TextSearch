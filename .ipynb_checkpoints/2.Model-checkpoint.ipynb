{
 "cells": [
  {
   "cell_type": "code",
   "execution_count": 1,
   "id": "ca244b39-fe19-4b08-9058-d7612eaa5d54",
   "metadata": {
    "colab": {
     "base_uri": "https://localhost:8080/"
    },
    "id": "ca244b39-fe19-4b08-9058-d7612eaa5d54",
    "outputId": "de23fccc-69cc-42aa-fa98-8973adb5e864"
   },
   "outputs": [],
   "source": [
    "#!pip install transformers sentencepiece"
   ]
  },
  {
   "cell_type": "code",
   "execution_count": 2,
   "id": "RfCXRW5jNvJi",
   "metadata": {
    "colab": {
     "base_uri": "https://localhost:8080/"
    },
    "id": "RfCXRW5jNvJi",
    "outputId": "0c75b02d-9e7a-4305-ed41-eeed1f323846"
   },
   "outputs": [],
   "source": [
    "#from google.colab import drive\n",
    "#drive.mount('/content/drive')"
   ]
  },
  {
   "cell_type": "code",
   "execution_count": 3,
   "id": "0oUriqT1Nz4P",
   "metadata": {
    "id": "0oUriqT1Nz4P"
   },
   "outputs": [
    {
     "name": "stdout",
     "output_type": "stream",
     "text": [
      "cp: не удалось выполнить stat для '/content/drive/MyDrive/semester 8/Kontur/.': Нет такого файла или каталога\n"
     ]
    }
   ],
   "source": [
    "!cp -r /content/drive/MyDrive/\"semester 8\"/Kontur/. /content"
   ]
  },
  {
   "cell_type": "code",
   "execution_count": 4,
   "id": "d7622a9c-a2ed-41ca-8b8a-8302443246c7",
   "metadata": {
    "colab": {
     "base_uri": "https://localhost:8080/"
    },
    "id": "d7622a9c-a2ed-41ca-8b8a-8302443246c7",
    "outputId": "64626d0d-da99-4bbb-f04e-150572a27994"
   },
   "outputs": [
    {
     "name": "stderr",
     "output_type": "stream",
     "text": [
      "[nltk_data] Downloading package punkt to /home/danil-\n",
      "[nltk_data]     pass123/nltk_data...\n",
      "[nltk_data]   Package punkt is already up-to-date!\n"
     ]
    }
   ],
   "source": [
    "from utils.data_processing import process_train_df,text_to_words_list\n",
    "from utils.index_extraction import extract_word_position_from_texts\n",
    "import pandas as pd\n",
    "import numpy as np\n",
    "\n",
    "from sklearn.model_selection import train_test_split\n",
    "\n",
    "from tqdm import tqdm\n",
    "\n",
    "import torch\n",
    "from torch.utils.data import Dataset,DataLoader\n",
    "\n",
    "from transformers import AutoTokenizer, AutoModel\n",
    "from nltk.lm import Vocabulary\n",
    "\n",
    "from IPython.display import clear_output"
   ]
  },
  {
   "cell_type": "code",
   "execution_count": 5,
   "id": "d22c671a-0c06-4536-80d9-c1d570f8aff8",
   "metadata": {
    "id": "d22c671a-0c06-4536-80d9-c1d570f8aff8"
   },
   "outputs": [],
   "source": [
    "# # np.random.seed(0)\n",
    "# df1 = pd.DataFrame(np.random.choice(10, (3, 5)), columns=list('ABCDE'))\n",
    "\n",
    "# df1[df1.A > 5]['B'] = 4"
   ]
  },
  {
   "cell_type": "code",
   "execution_count": 6,
   "id": "67b79486-73bb-428b-9b0e-c3910c5228f9",
   "metadata": {
    "id": "67b79486-73bb-428b-9b0e-c3910c5228f9"
   },
   "outputs": [],
   "source": [
    "# import warnings\n",
    "# warnings.filterwarnings('ignore')"
   ]
  },
  {
   "cell_type": "markdown",
   "id": "531d2d8c-8f51-4db5-bc6f-765139e5ad25",
   "metadata": {
    "id": "531d2d8c-8f51-4db5-bc6f-765139e5ad25"
   },
   "source": [
    "# Model"
   ]
  },
  {
   "cell_type": "markdown",
   "id": "ca5fcb45-c465-4ab2-af98-904e95e1261b",
   "metadata": {
    "id": "ca5fcb45-c465-4ab2-af98-904e95e1261b"
   },
   "source": [
    "## Data Processing"
   ]
  },
  {
   "cell_type": "code",
   "execution_count": 7,
   "id": "0199d57b-40a8-49e2-bb44-bc35720e376d",
   "metadata": {
    "colab": {
     "base_uri": "https://localhost:8080/",
     "height": 175
    },
    "id": "0199d57b-40a8-49e2-bb44-bc35720e376d",
    "outputId": "53417e7f-a19b-4a4b-a182-7a9e86fbc5ba"
   },
   "outputs": [
    {
     "data": {
      "text/html": [
       "<div>\n",
       "<style scoped>\n",
       "    .dataframe tbody tr th:only-of-type {\n",
       "        vertical-align: middle;\n",
       "    }\n",
       "\n",
       "    .dataframe tbody tr th {\n",
       "        vertical-align: top;\n",
       "    }\n",
       "\n",
       "    .dataframe thead th {\n",
       "        text-align: right;\n",
       "    }\n",
       "</style>\n",
       "<table border=\"1\" class=\"dataframe\">\n",
       "  <thead>\n",
       "    <tr style=\"text-align: right;\">\n",
       "      <th></th>\n",
       "      <th>id</th>\n",
       "      <th>text</th>\n",
       "      <th>label</th>\n",
       "      <th>text_output</th>\n",
       "      <th>answer_start</th>\n",
       "      <th>answer_end</th>\n",
       "    </tr>\n",
       "  </thead>\n",
       "  <tbody>\n",
       "    <tr>\n",
       "      <th>0</th>\n",
       "      <td>809436509</td>\n",
       "      <td>Извещение о проведении открытого конкурса в эл...</td>\n",
       "      <td>обеспечение исполнения контракта</td>\n",
       "      <td>Размер обеспечения исполнения контракта 6593.2...</td>\n",
       "      <td>1279</td>\n",
       "      <td>1343</td>\n",
       "    </tr>\n",
       "    <tr>\n",
       "      <th>1</th>\n",
       "      <td>854885310</td>\n",
       "      <td>ТРЕБОВАНИЯ К СОДЕРЖАНИЮ ЗАЯВКИ участника запро...</td>\n",
       "      <td>обеспечение исполнения контракта</td>\n",
       "      <td>Поставщик должен предоставить обеспечение испо...</td>\n",
       "      <td>1222</td>\n",
       "      <td>1318</td>\n",
       "    </tr>\n",
       "    <tr>\n",
       "      <th>2</th>\n",
       "      <td>4382157</td>\n",
       "      <td>Извещение о проведении электронного аукциона д...</td>\n",
       "      <td>обеспечение исполнения контракта</td>\n",
       "      <td>Размер обеспечения исполнения контракта 10.00%</td>\n",
       "      <td>1297</td>\n",
       "      <td>1343</td>\n",
       "    </tr>\n",
       "    <tr>\n",
       "      <th>3</th>\n",
       "      <td>184555082</td>\n",
       "      <td>Извещение о проведении электронного аукциона д...</td>\n",
       "      <td>обеспечение исполнения контракта</td>\n",
       "      <td>Размер обеспечения исполнения контракта 10.00%</td>\n",
       "      <td>1304</td>\n",
       "      <td>1350</td>\n",
       "    </tr>\n",
       "  </tbody>\n",
       "</table>\n",
       "</div>"
      ],
      "text/plain": [
       "          id                                               text  \\\n",
       "0  809436509  Извещение о проведении открытого конкурса в эл...   \n",
       "1  854885310  ТРЕБОВАНИЯ К СОДЕРЖАНИЮ ЗАЯВКИ участника запро...   \n",
       "2    4382157  Извещение о проведении электронного аукциона д...   \n",
       "3  184555082  Извещение о проведении электронного аукциона д...   \n",
       "\n",
       "                              label  \\\n",
       "0  обеспечение исполнения контракта   \n",
       "1  обеспечение исполнения контракта   \n",
       "2  обеспечение исполнения контракта   \n",
       "3  обеспечение исполнения контракта   \n",
       "\n",
       "                                         text_output  answer_start  answer_end  \n",
       "0  Размер обеспечения исполнения контракта 6593.2...          1279        1343  \n",
       "1  Поставщик должен предоставить обеспечение испо...          1222        1318  \n",
       "2     Размер обеспечения исполнения контракта 10.00%          1297        1343  \n",
       "3     Размер обеспечения исполнения контракта 10.00%          1304        1350  "
      ]
     },
     "execution_count": 7,
     "metadata": {},
     "output_type": "execute_result"
    }
   ],
   "source": [
    "df_train = pd.read_json(\"dataset/train.json\")\n",
    "df_train = process_train_df(df_train)\n",
    "df_train.head(4)"
   ]
  },
  {
   "cell_type": "code",
   "execution_count": 8,
   "id": "8DuqWc61O9_f",
   "metadata": {
    "colab": {
     "base_uri": "https://localhost:8080/"
    },
    "id": "8DuqWc61O9_f",
    "outputId": "60b8e98b-a1d1-43c8-9617-67ead29f6eb0"
   },
   "outputs": [
    {
     "name": "stderr",
     "output_type": "stream",
     "text": [
      "[nltk_data] Downloading package stopwords to /home/danil-\n",
      "[nltk_data]     pass123/nltk_data...\n",
      "[nltk_data]   Package stopwords is already up-to-date!\n"
     ]
    },
    {
     "data": {
      "text/plain": [
       "True"
      ]
     },
     "execution_count": 8,
     "metadata": {},
     "output_type": "execute_result"
    }
   ],
   "source": [
    "import nltk\n",
    "nltk.download('stopwords')"
   ]
  },
  {
   "cell_type": "code",
   "execution_count": 9,
   "id": "3dbdbdcf-1962-44c8-96af-e102a559b373",
   "metadata": {
    "id": "3dbdbdcf-1962-44c8-96af-e102a559b373"
   },
   "outputs": [],
   "source": [
    "text_list_of_words, text_all_words_list, word_position_list = text_to_words_list(list(df_train.text))\n",
    "output_text_list_of_words, output_text_all_words_list, output_word_position_list = text_to_words_list(list(df_train.text_output))\n",
    "output_word_position_list = extract_word_position_from_texts(word_position_list,text_list_of_words,output_text_list_of_words,df_train)"
   ]
  },
  {
   "cell_type": "code",
   "execution_count": 10,
   "id": "39ad75ac-2c68-4f36-bdcf-bb312310abec",
   "metadata": {
    "colab": {
     "base_uri": "https://localhost:8080/"
    },
    "id": "39ad75ac-2c68-4f36-bdcf-bb312310abec",
    "outputId": "bb3c5df7-ac21-4740-bc15-e3fdb6a9435c"
   },
   "outputs": [
    {
     "data": {
      "text/plain": [
       "1015"
      ]
     },
     "execution_count": 10,
     "metadata": {},
     "output_type": "execute_result"
    }
   ],
   "source": [
    "seq_lens = [len(text_list_of_words[i]) for i in range(len(text_list_of_words))]\n",
    "max(seq_lens)"
   ]
  },
  {
   "cell_type": "code",
   "execution_count": 11,
   "id": "d408f645-dcbe-4fdb-be38-c57c22608627",
   "metadata": {
    "colab": {
     "base_uri": "https://localhost:8080/"
    },
    "id": "d408f645-dcbe-4fdb-be38-c57c22608627",
    "outputId": "5f2d3c3a-fd80-48ce-8c3c-9c621f27c0d5"
   },
   "outputs": [
    {
     "data": {
      "text/plain": [
       "(369, 369)"
      ]
     },
     "execution_count": 11,
     "metadata": {},
     "output_type": "execute_result"
    }
   ],
   "source": [
    "len(text_list_of_words[0]), len(word_position_list[0])"
   ]
  },
  {
   "cell_type": "code",
   "execution_count": 12,
   "id": "f0210a60-bced-4001-baf3-f86d652098b1",
   "metadata": {
    "colab": {
     "base_uri": "https://localhost:8080/"
    },
    "id": "f0210a60-bced-4001-baf3-f86d652098b1",
    "outputId": "655b60de-f070-4fc5-d881-fec56c8cb0eb"
   },
   "outputs": [
    {
     "data": {
      "text/plain": [
       "array([1., 1., 1., 1.])"
      ]
     },
     "execution_count": 12,
     "metadata": {},
     "output_type": "execute_result"
    }
   ],
   "source": [
    "class_vals = np.zeros(len(df_train))\n",
    "c1,c2 = df_train.label.unique()[0],df_train.label.unique()[1]\n",
    "class_vals[df_train.label==c1] = 1\n",
    "class_vals[df_train.label==c2] = 2\n",
    "class_vals[:4]"
   ]
  },
  {
   "cell_type": "markdown",
   "id": "ae8dce1b-1fdf-470f-ae81-9311f3560ec7",
   "metadata": {
    "id": "ae8dce1b-1fdf-470f-ae81-9311f3560ec7"
   },
   "source": [
    "### Embeding\n",
    "\n",
    "Отдельное обучение\n",
    "- word to vec + PCA\n",
    "- BERT\n",
    "- word2vec + Simple ML model"
   ]
  },
  {
   "cell_type": "code",
   "execution_count": 13,
   "id": "27d158ec-ec8d-4908-8b92-969394c998b7",
   "metadata": {
    "id": "27d158ec-ec8d-4908-8b92-969394c998b7"
   },
   "outputs": [],
   "source": [
    "# t_all_w = Vocabulary(text_all_words_list)\n",
    "# len(text_all_words_list),len(t_all_w)"
   ]
  },
  {
   "cell_type": "markdown",
   "id": "6054eb18-1e59-4a3c-a06d-093cadb0083a",
   "metadata": {
    "id": "6054eb18-1e59-4a3c-a06d-093cadb0083a"
   },
   "source": [
    "#### Word to digit"
   ]
  },
  {
   "cell_type": "code",
   "execution_count": 14,
   "id": "bf46c929-f461-4ce1-b011-42278cfa67bc",
   "metadata": {
    "id": "bf46c929-f461-4ce1-b011-42278cfa67bc"
   },
   "outputs": [],
   "source": [
    "# words_dicts = {}\n",
    "# text_list_of_encoded_words = []\n",
    "# for text in text_list_of_words:\n",
    "#     current_encoding = []\n",
    "#     for w in text:\n",
    "#         if w not in words_dicts.keys():\n",
    "#             words_dicts[w] = len(words_dicts)\n",
    "#         current_encoding.append(words_dicts[w])\n",
    "#     text_list_of_encoded_words.append(current_encoding)\n",
    "\n",
    "# text_list_of_encoded_words[1][0:20]"
   ]
  },
  {
   "cell_type": "markdown",
   "id": "e9f7e5ac-9ddc-4176-9bda-62e008890ef4",
   "metadata": {
    "id": "e9f7e5ac-9ddc-4176-9bda-62e008890ef4"
   },
   "source": [
    "### Dataset"
   ]
  },
  {
   "cell_type": "code",
   "execution_count": 15,
   "id": "5b4d36c0-7ae8-4be3-aac6-fb44c8e075d5",
   "metadata": {
    "colab": {
     "base_uri": "https://localhost:8080/"
    },
    "id": "5b4d36c0-7ae8-4be3-aac6-fb44c8e075d5",
    "outputId": "218bfe47-9b3c-4896-e0ee-252c72706639"
   },
   "outputs": [
    {
     "data": {
      "text/plain": [
       "2000.0"
      ]
     },
     "execution_count": 15,
     "metadata": {},
     "output_type": "execute_result"
    }
   ],
   "source": [
    "seq_size = 2000\n",
    "for i in range(len(text_list_of_words)):\n",
    "    size = len(text_list_of_words[i])\n",
    "    for _ in range(size,seq_size):\n",
    "        text_list_of_words[i].append(\"\")\n",
    "\n",
    "\n",
    "seq_lens = [len(text_list_of_words[i]) for i in range(len(text_list_of_words))]\n",
    "sum(seq_lens)/len(text_list_of_words)"
   ]
  },
  {
   "cell_type": "code",
   "execution_count": 19,
   "id": "e934ca01-fe04-47b8-9cbf-fe34fde9bc25",
   "metadata": {},
   "outputs": [],
   "source": [
    "converted_words = {}"
   ]
  },
  {
   "cell_type": "code",
   "execution_count": 20,
   "id": "b0223981-5ebe-4d7b-993d-b76cf53c5d14",
   "metadata": {},
   "outputs": [
    {
     "name": "stderr",
     "output_type": "stream",
     "text": [
      "Some weights of the model checkpoint at cointegrated/rubert-tiny were not used when initializing BertModel: ['cls.predictions.transform.LayerNorm.weight', 'cls.predictions.decoder.weight', 'cls.predictions.transform.dense.bias', 'cls.predictions.transform.LayerNorm.bias', 'cls.predictions.transform.dense.weight', 'cls.predictions.bias', 'cls.predictions.decoder.bias', 'cls.seq_relationship.bias', 'cls.seq_relationship.weight']\n",
      "- This IS expected if you are initializing BertModel from the checkpoint of a model trained on another task or with another architecture (e.g. initializing a BertForSequenceClassification model from a BertForPreTraining model).\n",
      "- This IS NOT expected if you are initializing BertModel from the checkpoint of a model that you expect to be exactly identical (initializing a BertForSequenceClassification model from a BertForSequenceClassification model).\n",
      " 28%|██████████                          | 505/1799 [1:10:29<3:00:37,  8.38s/it]\n"
     ]
    },
    {
     "ename": "KeyboardInterrupt",
     "evalue": "",
     "output_type": "error",
     "traceback": [
      "\u001b[0;31m---------------------------------------------------------------------------\u001b[0m",
      "\u001b[0;31mKeyboardInterrupt\u001b[0m                         Traceback (most recent call last)",
      "Cell \u001b[0;32mIn[20], line 30\u001b[0m\n\u001b[1;32m     28\u001b[0m text_embedding_list \u001b[38;5;241m=\u001b[39m []\n\u001b[1;32m     29\u001b[0m \u001b[38;5;28;01mfor\u001b[39;00m text \u001b[38;5;129;01min\u001b[39;00m tqdm(text_list_of_words):\n\u001b[0;32m---> 30\u001b[0m     text_embedding_list\u001b[38;5;241m.\u001b[39mappend(\u001b[43mget_text_embedding\u001b[49m\u001b[43m(\u001b[49m\u001b[43mtext\u001b[49m\u001b[43m)\u001b[49m)\n",
      "Cell \u001b[0;32mIn[20], line 23\u001b[0m, in \u001b[0;36mget_text_embedding\u001b[0;34m(text)\u001b[0m\n\u001b[1;32m     21\u001b[0m text_embedding \u001b[38;5;241m=\u001b[39m []\n\u001b[1;32m     22\u001b[0m \u001b[38;5;28;01mfor\u001b[39;00m w \u001b[38;5;129;01min\u001b[39;00m text:\n\u001b[0;32m---> 23\u001b[0m     w_embedding \u001b[38;5;241m=\u001b[39m \u001b[43mget_converted_embedding\u001b[49m\u001b[43m(\u001b[49m\u001b[43mw\u001b[49m\u001b[43m)\u001b[49m\n\u001b[1;32m     24\u001b[0m     text_embedding\u001b[38;5;241m.\u001b[39mappend(w_embedding)\n\u001b[1;32m     25\u001b[0m \u001b[38;5;66;03m#text_embedding = np.array(text_embedding)\u001b[39;00m\n",
      "Cell \u001b[0;32mIn[20], line 17\u001b[0m, in \u001b[0;36mget_converted_embedding\u001b[0;34m(word)\u001b[0m\n\u001b[1;32m     15\u001b[0m \u001b[38;5;28;01mdef\u001b[39;00m \u001b[38;5;21mget_converted_embedding\u001b[39m(word):\n\u001b[1;32m     16\u001b[0m   \u001b[38;5;28;01mif\u001b[39;00m \u001b[38;5;129;01mnot\u001b[39;00m( word \u001b[38;5;129;01min\u001b[39;00m converted_words\u001b[38;5;241m.\u001b[39mkeys() ):\n\u001b[0;32m---> 17\u001b[0m     converted_words[\u001b[38;5;124m'\u001b[39m\u001b[38;5;124mword\u001b[39m\u001b[38;5;124m'\u001b[39m] \u001b[38;5;241m=\u001b[39m \u001b[43membed_bert_cls\u001b[49m\u001b[43m(\u001b[49m\u001b[43mword\u001b[49m\u001b[43m)\u001b[49m\n\u001b[1;32m     18\u001b[0m   \u001b[38;5;28;01mreturn\u001b[39;00m converted_words[\u001b[38;5;124m'\u001b[39m\u001b[38;5;124mword\u001b[39m\u001b[38;5;124m'\u001b[39m]\n",
      "Cell \u001b[0;32mIn[20], line 9\u001b[0m, in \u001b[0;36membed_bert_cls\u001b[0;34m(text)\u001b[0m\n\u001b[1;32m      7\u001b[0m t \u001b[38;5;241m=\u001b[39m tokenizer(text, padding\u001b[38;5;241m=\u001b[39m\u001b[38;5;28;01mTrue\u001b[39;00m, truncation\u001b[38;5;241m=\u001b[39m\u001b[38;5;28;01mTrue\u001b[39;00m, return_tensors\u001b[38;5;241m=\u001b[39m\u001b[38;5;124m'\u001b[39m\u001b[38;5;124mpt\u001b[39m\u001b[38;5;124m'\u001b[39m)\n\u001b[1;32m      8\u001b[0m \u001b[38;5;28;01mwith\u001b[39;00m torch\u001b[38;5;241m.\u001b[39mno_grad():\n\u001b[0;32m----> 9\u001b[0m     model_output \u001b[38;5;241m=\u001b[39m \u001b[43mmodel\u001b[49m\u001b[43m(\u001b[49m\u001b[38;5;241;43m*\u001b[39;49m\u001b[38;5;241;43m*\u001b[39;49m\u001b[43m{\u001b[49m\u001b[43mk\u001b[49m\u001b[43m:\u001b[49m\u001b[43m \u001b[49m\u001b[43mv\u001b[49m\u001b[38;5;241;43m.\u001b[39;49m\u001b[43mto\u001b[49m\u001b[43m(\u001b[49m\u001b[43mmodel\u001b[49m\u001b[38;5;241;43m.\u001b[39;49m\u001b[43mdevice\u001b[49m\u001b[43m)\u001b[49m\u001b[43m \u001b[49m\u001b[38;5;28;43;01mfor\u001b[39;49;00m\u001b[43m \u001b[49m\u001b[43mk\u001b[49m\u001b[43m,\u001b[49m\u001b[43m \u001b[49m\u001b[43mv\u001b[49m\u001b[43m \u001b[49m\u001b[38;5;129;43;01min\u001b[39;49;00m\u001b[43m \u001b[49m\u001b[43mt\u001b[49m\u001b[38;5;241;43m.\u001b[39;49m\u001b[43mitems\u001b[49m\u001b[43m(\u001b[49m\u001b[43m)\u001b[49m\u001b[43m}\u001b[49m\u001b[43m)\u001b[49m\n\u001b[1;32m     10\u001b[0m embeddings \u001b[38;5;241m=\u001b[39m model_output\u001b[38;5;241m.\u001b[39mlast_hidden_state[:, \u001b[38;5;241m0\u001b[39m, :]\n\u001b[1;32m     11\u001b[0m embeddings \u001b[38;5;241m=\u001b[39m torch\u001b[38;5;241m.\u001b[39mnn\u001b[38;5;241m.\u001b[39mfunctional\u001b[38;5;241m.\u001b[39mnormalize(embeddings)\n",
      "File \u001b[0;32m~/Документы/Programs/miniconda3/lib/python3.10/site-packages/torch/nn/modules/module.py:1194\u001b[0m, in \u001b[0;36mModule._call_impl\u001b[0;34m(self, *input, **kwargs)\u001b[0m\n\u001b[1;32m   1190\u001b[0m \u001b[38;5;66;03m# If we don't have any hooks, we want to skip the rest of the logic in\u001b[39;00m\n\u001b[1;32m   1191\u001b[0m \u001b[38;5;66;03m# this function, and just call forward.\u001b[39;00m\n\u001b[1;32m   1192\u001b[0m \u001b[38;5;28;01mif\u001b[39;00m \u001b[38;5;129;01mnot\u001b[39;00m (\u001b[38;5;28mself\u001b[39m\u001b[38;5;241m.\u001b[39m_backward_hooks \u001b[38;5;129;01mor\u001b[39;00m \u001b[38;5;28mself\u001b[39m\u001b[38;5;241m.\u001b[39m_forward_hooks \u001b[38;5;129;01mor\u001b[39;00m \u001b[38;5;28mself\u001b[39m\u001b[38;5;241m.\u001b[39m_forward_pre_hooks \u001b[38;5;129;01mor\u001b[39;00m _global_backward_hooks\n\u001b[1;32m   1193\u001b[0m         \u001b[38;5;129;01mor\u001b[39;00m _global_forward_hooks \u001b[38;5;129;01mor\u001b[39;00m _global_forward_pre_hooks):\n\u001b[0;32m-> 1194\u001b[0m     \u001b[38;5;28;01mreturn\u001b[39;00m \u001b[43mforward_call\u001b[49m\u001b[43m(\u001b[49m\u001b[38;5;241;43m*\u001b[39;49m\u001b[38;5;28;43minput\u001b[39;49m\u001b[43m,\u001b[49m\u001b[43m \u001b[49m\u001b[38;5;241;43m*\u001b[39;49m\u001b[38;5;241;43m*\u001b[39;49m\u001b[43mkwargs\u001b[49m\u001b[43m)\u001b[49m\n\u001b[1;32m   1195\u001b[0m \u001b[38;5;66;03m# Do not call functions when jit is used\u001b[39;00m\n\u001b[1;32m   1196\u001b[0m full_backward_hooks, non_full_backward_hooks \u001b[38;5;241m=\u001b[39m [], []\n",
      "File \u001b[0;32m~/Документы/Programs/miniconda3/lib/python3.10/site-packages/transformers/models/bert/modeling_bert.py:1020\u001b[0m, in \u001b[0;36mBertModel.forward\u001b[0;34m(self, input_ids, attention_mask, token_type_ids, position_ids, head_mask, inputs_embeds, encoder_hidden_states, encoder_attention_mask, past_key_values, use_cache, output_attentions, output_hidden_states, return_dict)\u001b[0m\n\u001b[1;32m   1011\u001b[0m head_mask \u001b[38;5;241m=\u001b[39m \u001b[38;5;28mself\u001b[39m\u001b[38;5;241m.\u001b[39mget_head_mask(head_mask, \u001b[38;5;28mself\u001b[39m\u001b[38;5;241m.\u001b[39mconfig\u001b[38;5;241m.\u001b[39mnum_hidden_layers)\n\u001b[1;32m   1013\u001b[0m embedding_output \u001b[38;5;241m=\u001b[39m \u001b[38;5;28mself\u001b[39m\u001b[38;5;241m.\u001b[39membeddings(\n\u001b[1;32m   1014\u001b[0m     input_ids\u001b[38;5;241m=\u001b[39minput_ids,\n\u001b[1;32m   1015\u001b[0m     position_ids\u001b[38;5;241m=\u001b[39mposition_ids,\n\u001b[0;32m   (...)\u001b[0m\n\u001b[1;32m   1018\u001b[0m     past_key_values_length\u001b[38;5;241m=\u001b[39mpast_key_values_length,\n\u001b[1;32m   1019\u001b[0m )\n\u001b[0;32m-> 1020\u001b[0m encoder_outputs \u001b[38;5;241m=\u001b[39m \u001b[38;5;28;43mself\u001b[39;49m\u001b[38;5;241;43m.\u001b[39;49m\u001b[43mencoder\u001b[49m\u001b[43m(\u001b[49m\n\u001b[1;32m   1021\u001b[0m \u001b[43m    \u001b[49m\u001b[43membedding_output\u001b[49m\u001b[43m,\u001b[49m\n\u001b[1;32m   1022\u001b[0m \u001b[43m    \u001b[49m\u001b[43mattention_mask\u001b[49m\u001b[38;5;241;43m=\u001b[39;49m\u001b[43mextended_attention_mask\u001b[49m\u001b[43m,\u001b[49m\n\u001b[1;32m   1023\u001b[0m \u001b[43m    \u001b[49m\u001b[43mhead_mask\u001b[49m\u001b[38;5;241;43m=\u001b[39;49m\u001b[43mhead_mask\u001b[49m\u001b[43m,\u001b[49m\n\u001b[1;32m   1024\u001b[0m \u001b[43m    \u001b[49m\u001b[43mencoder_hidden_states\u001b[49m\u001b[38;5;241;43m=\u001b[39;49m\u001b[43mencoder_hidden_states\u001b[49m\u001b[43m,\u001b[49m\n\u001b[1;32m   1025\u001b[0m \u001b[43m    \u001b[49m\u001b[43mencoder_attention_mask\u001b[49m\u001b[38;5;241;43m=\u001b[39;49m\u001b[43mencoder_extended_attention_mask\u001b[49m\u001b[43m,\u001b[49m\n\u001b[1;32m   1026\u001b[0m \u001b[43m    \u001b[49m\u001b[43mpast_key_values\u001b[49m\u001b[38;5;241;43m=\u001b[39;49m\u001b[43mpast_key_values\u001b[49m\u001b[43m,\u001b[49m\n\u001b[1;32m   1027\u001b[0m \u001b[43m    \u001b[49m\u001b[43muse_cache\u001b[49m\u001b[38;5;241;43m=\u001b[39;49m\u001b[43muse_cache\u001b[49m\u001b[43m,\u001b[49m\n\u001b[1;32m   1028\u001b[0m \u001b[43m    \u001b[49m\u001b[43moutput_attentions\u001b[49m\u001b[38;5;241;43m=\u001b[39;49m\u001b[43moutput_attentions\u001b[49m\u001b[43m,\u001b[49m\n\u001b[1;32m   1029\u001b[0m \u001b[43m    \u001b[49m\u001b[43moutput_hidden_states\u001b[49m\u001b[38;5;241;43m=\u001b[39;49m\u001b[43moutput_hidden_states\u001b[49m\u001b[43m,\u001b[49m\n\u001b[1;32m   1030\u001b[0m \u001b[43m    \u001b[49m\u001b[43mreturn_dict\u001b[49m\u001b[38;5;241;43m=\u001b[39;49m\u001b[43mreturn_dict\u001b[49m\u001b[43m,\u001b[49m\n\u001b[1;32m   1031\u001b[0m \u001b[43m\u001b[49m\u001b[43m)\u001b[49m\n\u001b[1;32m   1032\u001b[0m sequence_output \u001b[38;5;241m=\u001b[39m encoder_outputs[\u001b[38;5;241m0\u001b[39m]\n\u001b[1;32m   1033\u001b[0m pooled_output \u001b[38;5;241m=\u001b[39m \u001b[38;5;28mself\u001b[39m\u001b[38;5;241m.\u001b[39mpooler(sequence_output) \u001b[38;5;28;01mif\u001b[39;00m \u001b[38;5;28mself\u001b[39m\u001b[38;5;241m.\u001b[39mpooler \u001b[38;5;129;01mis\u001b[39;00m \u001b[38;5;129;01mnot\u001b[39;00m \u001b[38;5;28;01mNone\u001b[39;00m \u001b[38;5;28;01melse\u001b[39;00m \u001b[38;5;28;01mNone\u001b[39;00m\n",
      "File \u001b[0;32m~/Документы/Programs/miniconda3/lib/python3.10/site-packages/torch/nn/modules/module.py:1194\u001b[0m, in \u001b[0;36mModule._call_impl\u001b[0;34m(self, *input, **kwargs)\u001b[0m\n\u001b[1;32m   1190\u001b[0m \u001b[38;5;66;03m# If we don't have any hooks, we want to skip the rest of the logic in\u001b[39;00m\n\u001b[1;32m   1191\u001b[0m \u001b[38;5;66;03m# this function, and just call forward.\u001b[39;00m\n\u001b[1;32m   1192\u001b[0m \u001b[38;5;28;01mif\u001b[39;00m \u001b[38;5;129;01mnot\u001b[39;00m (\u001b[38;5;28mself\u001b[39m\u001b[38;5;241m.\u001b[39m_backward_hooks \u001b[38;5;129;01mor\u001b[39;00m \u001b[38;5;28mself\u001b[39m\u001b[38;5;241m.\u001b[39m_forward_hooks \u001b[38;5;129;01mor\u001b[39;00m \u001b[38;5;28mself\u001b[39m\u001b[38;5;241m.\u001b[39m_forward_pre_hooks \u001b[38;5;129;01mor\u001b[39;00m _global_backward_hooks\n\u001b[1;32m   1193\u001b[0m         \u001b[38;5;129;01mor\u001b[39;00m _global_forward_hooks \u001b[38;5;129;01mor\u001b[39;00m _global_forward_pre_hooks):\n\u001b[0;32m-> 1194\u001b[0m     \u001b[38;5;28;01mreturn\u001b[39;00m \u001b[43mforward_call\u001b[49m\u001b[43m(\u001b[49m\u001b[38;5;241;43m*\u001b[39;49m\u001b[38;5;28;43minput\u001b[39;49m\u001b[43m,\u001b[49m\u001b[43m \u001b[49m\u001b[38;5;241;43m*\u001b[39;49m\u001b[38;5;241;43m*\u001b[39;49m\u001b[43mkwargs\u001b[49m\u001b[43m)\u001b[49m\n\u001b[1;32m   1195\u001b[0m \u001b[38;5;66;03m# Do not call functions when jit is used\u001b[39;00m\n\u001b[1;32m   1196\u001b[0m full_backward_hooks, non_full_backward_hooks \u001b[38;5;241m=\u001b[39m [], []\n",
      "File \u001b[0;32m~/Документы/Programs/miniconda3/lib/python3.10/site-packages/transformers/models/bert/modeling_bert.py:610\u001b[0m, in \u001b[0;36mBertEncoder.forward\u001b[0;34m(self, hidden_states, attention_mask, head_mask, encoder_hidden_states, encoder_attention_mask, past_key_values, use_cache, output_attentions, output_hidden_states, return_dict)\u001b[0m\n\u001b[1;32m    601\u001b[0m     layer_outputs \u001b[38;5;241m=\u001b[39m torch\u001b[38;5;241m.\u001b[39mutils\u001b[38;5;241m.\u001b[39mcheckpoint\u001b[38;5;241m.\u001b[39mcheckpoint(\n\u001b[1;32m    602\u001b[0m         create_custom_forward(layer_module),\n\u001b[1;32m    603\u001b[0m         hidden_states,\n\u001b[0;32m   (...)\u001b[0m\n\u001b[1;32m    607\u001b[0m         encoder_attention_mask,\n\u001b[1;32m    608\u001b[0m     )\n\u001b[1;32m    609\u001b[0m \u001b[38;5;28;01melse\u001b[39;00m:\n\u001b[0;32m--> 610\u001b[0m     layer_outputs \u001b[38;5;241m=\u001b[39m \u001b[43mlayer_module\u001b[49m\u001b[43m(\u001b[49m\n\u001b[1;32m    611\u001b[0m \u001b[43m        \u001b[49m\u001b[43mhidden_states\u001b[49m\u001b[43m,\u001b[49m\n\u001b[1;32m    612\u001b[0m \u001b[43m        \u001b[49m\u001b[43mattention_mask\u001b[49m\u001b[43m,\u001b[49m\n\u001b[1;32m    613\u001b[0m \u001b[43m        \u001b[49m\u001b[43mlayer_head_mask\u001b[49m\u001b[43m,\u001b[49m\n\u001b[1;32m    614\u001b[0m \u001b[43m        \u001b[49m\u001b[43mencoder_hidden_states\u001b[49m\u001b[43m,\u001b[49m\n\u001b[1;32m    615\u001b[0m \u001b[43m        \u001b[49m\u001b[43mencoder_attention_mask\u001b[49m\u001b[43m,\u001b[49m\n\u001b[1;32m    616\u001b[0m \u001b[43m        \u001b[49m\u001b[43mpast_key_value\u001b[49m\u001b[43m,\u001b[49m\n\u001b[1;32m    617\u001b[0m \u001b[43m        \u001b[49m\u001b[43moutput_attentions\u001b[49m\u001b[43m,\u001b[49m\n\u001b[1;32m    618\u001b[0m \u001b[43m    \u001b[49m\u001b[43m)\u001b[49m\n\u001b[1;32m    620\u001b[0m hidden_states \u001b[38;5;241m=\u001b[39m layer_outputs[\u001b[38;5;241m0\u001b[39m]\n\u001b[1;32m    621\u001b[0m \u001b[38;5;28;01mif\u001b[39;00m use_cache:\n",
      "File \u001b[0;32m~/Документы/Programs/miniconda3/lib/python3.10/site-packages/torch/nn/modules/module.py:1194\u001b[0m, in \u001b[0;36mModule._call_impl\u001b[0;34m(self, *input, **kwargs)\u001b[0m\n\u001b[1;32m   1190\u001b[0m \u001b[38;5;66;03m# If we don't have any hooks, we want to skip the rest of the logic in\u001b[39;00m\n\u001b[1;32m   1191\u001b[0m \u001b[38;5;66;03m# this function, and just call forward.\u001b[39;00m\n\u001b[1;32m   1192\u001b[0m \u001b[38;5;28;01mif\u001b[39;00m \u001b[38;5;129;01mnot\u001b[39;00m (\u001b[38;5;28mself\u001b[39m\u001b[38;5;241m.\u001b[39m_backward_hooks \u001b[38;5;129;01mor\u001b[39;00m \u001b[38;5;28mself\u001b[39m\u001b[38;5;241m.\u001b[39m_forward_hooks \u001b[38;5;129;01mor\u001b[39;00m \u001b[38;5;28mself\u001b[39m\u001b[38;5;241m.\u001b[39m_forward_pre_hooks \u001b[38;5;129;01mor\u001b[39;00m _global_backward_hooks\n\u001b[1;32m   1193\u001b[0m         \u001b[38;5;129;01mor\u001b[39;00m _global_forward_hooks \u001b[38;5;129;01mor\u001b[39;00m _global_forward_pre_hooks):\n\u001b[0;32m-> 1194\u001b[0m     \u001b[38;5;28;01mreturn\u001b[39;00m \u001b[43mforward_call\u001b[49m\u001b[43m(\u001b[49m\u001b[38;5;241;43m*\u001b[39;49m\u001b[38;5;28;43minput\u001b[39;49m\u001b[43m,\u001b[49m\u001b[43m \u001b[49m\u001b[38;5;241;43m*\u001b[39;49m\u001b[38;5;241;43m*\u001b[39;49m\u001b[43mkwargs\u001b[49m\u001b[43m)\u001b[49m\n\u001b[1;32m   1195\u001b[0m \u001b[38;5;66;03m# Do not call functions when jit is used\u001b[39;00m\n\u001b[1;32m   1196\u001b[0m full_backward_hooks, non_full_backward_hooks \u001b[38;5;241m=\u001b[39m [], []\n",
      "File \u001b[0;32m~/Документы/Programs/miniconda3/lib/python3.10/site-packages/transformers/models/bert/modeling_bert.py:537\u001b[0m, in \u001b[0;36mBertLayer.forward\u001b[0;34m(self, hidden_states, attention_mask, head_mask, encoder_hidden_states, encoder_attention_mask, past_key_value, output_attentions)\u001b[0m\n\u001b[1;32m    534\u001b[0m     cross_attn_present_key_value \u001b[38;5;241m=\u001b[39m cross_attention_outputs[\u001b[38;5;241m-\u001b[39m\u001b[38;5;241m1\u001b[39m]\n\u001b[1;32m    535\u001b[0m     present_key_value \u001b[38;5;241m=\u001b[39m present_key_value \u001b[38;5;241m+\u001b[39m cross_attn_present_key_value\n\u001b[0;32m--> 537\u001b[0m layer_output \u001b[38;5;241m=\u001b[39m \u001b[43mapply_chunking_to_forward\u001b[49m\u001b[43m(\u001b[49m\n\u001b[1;32m    538\u001b[0m \u001b[43m    \u001b[49m\u001b[38;5;28;43mself\u001b[39;49m\u001b[38;5;241;43m.\u001b[39;49m\u001b[43mfeed_forward_chunk\u001b[49m\u001b[43m,\u001b[49m\u001b[43m \u001b[49m\u001b[38;5;28;43mself\u001b[39;49m\u001b[38;5;241;43m.\u001b[39;49m\u001b[43mchunk_size_feed_forward\u001b[49m\u001b[43m,\u001b[49m\u001b[43m \u001b[49m\u001b[38;5;28;43mself\u001b[39;49m\u001b[38;5;241;43m.\u001b[39;49m\u001b[43mseq_len_dim\u001b[49m\u001b[43m,\u001b[49m\u001b[43m \u001b[49m\u001b[43mattention_output\u001b[49m\n\u001b[1;32m    539\u001b[0m \u001b[43m\u001b[49m\u001b[43m)\u001b[49m\n\u001b[1;32m    540\u001b[0m outputs \u001b[38;5;241m=\u001b[39m (layer_output,) \u001b[38;5;241m+\u001b[39m outputs\n\u001b[1;32m    542\u001b[0m \u001b[38;5;66;03m# if decoder, return the attn key/values as the last output\u001b[39;00m\n",
      "File \u001b[0;32m~/Документы/Programs/miniconda3/lib/python3.10/site-packages/transformers/pytorch_utils.py:236\u001b[0m, in \u001b[0;36mapply_chunking_to_forward\u001b[0;34m(forward_fn, chunk_size, chunk_dim, *input_tensors)\u001b[0m\n\u001b[1;32m    233\u001b[0m     \u001b[38;5;66;03m# concatenate output at same dimension\u001b[39;00m\n\u001b[1;32m    234\u001b[0m     \u001b[38;5;28;01mreturn\u001b[39;00m torch\u001b[38;5;241m.\u001b[39mcat(output_chunks, dim\u001b[38;5;241m=\u001b[39mchunk_dim)\n\u001b[0;32m--> 236\u001b[0m \u001b[38;5;28;01mreturn\u001b[39;00m \u001b[43mforward_fn\u001b[49m\u001b[43m(\u001b[49m\u001b[38;5;241;43m*\u001b[39;49m\u001b[43minput_tensors\u001b[49m\u001b[43m)\u001b[49m\n",
      "File \u001b[0;32m~/Документы/Programs/miniconda3/lib/python3.10/site-packages/transformers/models/bert/modeling_bert.py:550\u001b[0m, in \u001b[0;36mBertLayer.feed_forward_chunk\u001b[0;34m(self, attention_output)\u001b[0m\n\u001b[1;32m    548\u001b[0m \u001b[38;5;28;01mdef\u001b[39;00m \u001b[38;5;21mfeed_forward_chunk\u001b[39m(\u001b[38;5;28mself\u001b[39m, attention_output):\n\u001b[1;32m    549\u001b[0m     intermediate_output \u001b[38;5;241m=\u001b[39m \u001b[38;5;28mself\u001b[39m\u001b[38;5;241m.\u001b[39mintermediate(attention_output)\n\u001b[0;32m--> 550\u001b[0m     layer_output \u001b[38;5;241m=\u001b[39m \u001b[38;5;28;43mself\u001b[39;49m\u001b[38;5;241;43m.\u001b[39;49m\u001b[43moutput\u001b[49m\u001b[43m(\u001b[49m\u001b[43mintermediate_output\u001b[49m\u001b[43m,\u001b[49m\u001b[43m \u001b[49m\u001b[43mattention_output\u001b[49m\u001b[43m)\u001b[49m\n\u001b[1;32m    551\u001b[0m     \u001b[38;5;28;01mreturn\u001b[39;00m layer_output\n",
      "File \u001b[0;32m~/Документы/Programs/miniconda3/lib/python3.10/site-packages/torch/nn/modules/module.py:1194\u001b[0m, in \u001b[0;36mModule._call_impl\u001b[0;34m(self, *input, **kwargs)\u001b[0m\n\u001b[1;32m   1190\u001b[0m \u001b[38;5;66;03m# If we don't have any hooks, we want to skip the rest of the logic in\u001b[39;00m\n\u001b[1;32m   1191\u001b[0m \u001b[38;5;66;03m# this function, and just call forward.\u001b[39;00m\n\u001b[1;32m   1192\u001b[0m \u001b[38;5;28;01mif\u001b[39;00m \u001b[38;5;129;01mnot\u001b[39;00m (\u001b[38;5;28mself\u001b[39m\u001b[38;5;241m.\u001b[39m_backward_hooks \u001b[38;5;129;01mor\u001b[39;00m \u001b[38;5;28mself\u001b[39m\u001b[38;5;241m.\u001b[39m_forward_hooks \u001b[38;5;129;01mor\u001b[39;00m \u001b[38;5;28mself\u001b[39m\u001b[38;5;241m.\u001b[39m_forward_pre_hooks \u001b[38;5;129;01mor\u001b[39;00m _global_backward_hooks\n\u001b[1;32m   1193\u001b[0m         \u001b[38;5;129;01mor\u001b[39;00m _global_forward_hooks \u001b[38;5;129;01mor\u001b[39;00m _global_forward_pre_hooks):\n\u001b[0;32m-> 1194\u001b[0m     \u001b[38;5;28;01mreturn\u001b[39;00m \u001b[43mforward_call\u001b[49m\u001b[43m(\u001b[49m\u001b[38;5;241;43m*\u001b[39;49m\u001b[38;5;28;43minput\u001b[39;49m\u001b[43m,\u001b[49m\u001b[43m \u001b[49m\u001b[38;5;241;43m*\u001b[39;49m\u001b[38;5;241;43m*\u001b[39;49m\u001b[43mkwargs\u001b[49m\u001b[43m)\u001b[49m\n\u001b[1;32m   1195\u001b[0m \u001b[38;5;66;03m# Do not call functions when jit is used\u001b[39;00m\n\u001b[1;32m   1196\u001b[0m full_backward_hooks, non_full_backward_hooks \u001b[38;5;241m=\u001b[39m [], []\n",
      "File \u001b[0;32m~/Документы/Programs/miniconda3/lib/python3.10/site-packages/transformers/models/bert/modeling_bert.py:463\u001b[0m, in \u001b[0;36mBertOutput.forward\u001b[0;34m(self, hidden_states, input_tensor)\u001b[0m\n\u001b[1;32m    461\u001b[0m \u001b[38;5;28;01mdef\u001b[39;00m \u001b[38;5;21mforward\u001b[39m(\u001b[38;5;28mself\u001b[39m, hidden_states: torch\u001b[38;5;241m.\u001b[39mTensor, input_tensor: torch\u001b[38;5;241m.\u001b[39mTensor) \u001b[38;5;241m-\u001b[39m\u001b[38;5;241m>\u001b[39m torch\u001b[38;5;241m.\u001b[39mTensor:\n\u001b[1;32m    462\u001b[0m     hidden_states \u001b[38;5;241m=\u001b[39m \u001b[38;5;28mself\u001b[39m\u001b[38;5;241m.\u001b[39mdense(hidden_states)\n\u001b[0;32m--> 463\u001b[0m     hidden_states \u001b[38;5;241m=\u001b[39m \u001b[38;5;28;43mself\u001b[39;49m\u001b[38;5;241;43m.\u001b[39;49m\u001b[43mdropout\u001b[49m\u001b[43m(\u001b[49m\u001b[43mhidden_states\u001b[49m\u001b[43m)\u001b[49m\n\u001b[1;32m    464\u001b[0m     hidden_states \u001b[38;5;241m=\u001b[39m \u001b[38;5;28mself\u001b[39m\u001b[38;5;241m.\u001b[39mLayerNorm(hidden_states \u001b[38;5;241m+\u001b[39m input_tensor)\n\u001b[1;32m    465\u001b[0m     \u001b[38;5;28;01mreturn\u001b[39;00m hidden_states\n",
      "File \u001b[0;32m~/Документы/Programs/miniconda3/lib/python3.10/site-packages/torch/nn/modules/module.py:1194\u001b[0m, in \u001b[0;36mModule._call_impl\u001b[0;34m(self, *input, **kwargs)\u001b[0m\n\u001b[1;32m   1190\u001b[0m \u001b[38;5;66;03m# If we don't have any hooks, we want to skip the rest of the logic in\u001b[39;00m\n\u001b[1;32m   1191\u001b[0m \u001b[38;5;66;03m# this function, and just call forward.\u001b[39;00m\n\u001b[1;32m   1192\u001b[0m \u001b[38;5;28;01mif\u001b[39;00m \u001b[38;5;129;01mnot\u001b[39;00m (\u001b[38;5;28mself\u001b[39m\u001b[38;5;241m.\u001b[39m_backward_hooks \u001b[38;5;129;01mor\u001b[39;00m \u001b[38;5;28mself\u001b[39m\u001b[38;5;241m.\u001b[39m_forward_hooks \u001b[38;5;129;01mor\u001b[39;00m \u001b[38;5;28mself\u001b[39m\u001b[38;5;241m.\u001b[39m_forward_pre_hooks \u001b[38;5;129;01mor\u001b[39;00m _global_backward_hooks\n\u001b[1;32m   1193\u001b[0m         \u001b[38;5;129;01mor\u001b[39;00m _global_forward_hooks \u001b[38;5;129;01mor\u001b[39;00m _global_forward_pre_hooks):\n\u001b[0;32m-> 1194\u001b[0m     \u001b[38;5;28;01mreturn\u001b[39;00m \u001b[43mforward_call\u001b[49m\u001b[43m(\u001b[49m\u001b[38;5;241;43m*\u001b[39;49m\u001b[38;5;28;43minput\u001b[39;49m\u001b[43m,\u001b[49m\u001b[43m \u001b[49m\u001b[38;5;241;43m*\u001b[39;49m\u001b[38;5;241;43m*\u001b[39;49m\u001b[43mkwargs\u001b[49m\u001b[43m)\u001b[49m\n\u001b[1;32m   1195\u001b[0m \u001b[38;5;66;03m# Do not call functions when jit is used\u001b[39;00m\n\u001b[1;32m   1196\u001b[0m full_backward_hooks, non_full_backward_hooks \u001b[38;5;241m=\u001b[39m [], []\n",
      "File \u001b[0;32m~/Документы/Programs/miniconda3/lib/python3.10/site-packages/torch/nn/modules/dropout.py:59\u001b[0m, in \u001b[0;36mDropout.forward\u001b[0;34m(self, input)\u001b[0m\n\u001b[1;32m     58\u001b[0m \u001b[38;5;28;01mdef\u001b[39;00m \u001b[38;5;21mforward\u001b[39m(\u001b[38;5;28mself\u001b[39m, \u001b[38;5;28minput\u001b[39m: Tensor) \u001b[38;5;241m-\u001b[39m\u001b[38;5;241m>\u001b[39m Tensor:\n\u001b[0;32m---> 59\u001b[0m     \u001b[38;5;28;01mreturn\u001b[39;00m \u001b[43mF\u001b[49m\u001b[38;5;241;43m.\u001b[39;49m\u001b[43mdropout\u001b[49m\u001b[43m(\u001b[49m\u001b[38;5;28;43minput\u001b[39;49m\u001b[43m,\u001b[49m\u001b[43m \u001b[49m\u001b[38;5;28;43mself\u001b[39;49m\u001b[38;5;241;43m.\u001b[39;49m\u001b[43mp\u001b[49m\u001b[43m,\u001b[49m\u001b[43m \u001b[49m\u001b[38;5;28;43mself\u001b[39;49m\u001b[38;5;241;43m.\u001b[39;49m\u001b[43mtraining\u001b[49m\u001b[43m,\u001b[49m\u001b[43m \u001b[49m\u001b[38;5;28;43mself\u001b[39;49m\u001b[38;5;241;43m.\u001b[39;49m\u001b[43minplace\u001b[49m\u001b[43m)\u001b[49m\n",
      "File \u001b[0;32m~/Документы/Programs/miniconda3/lib/python3.10/site-packages/torch/nn/functional.py:1252\u001b[0m, in \u001b[0;36mdropout\u001b[0;34m(input, p, training, inplace)\u001b[0m\n\u001b[1;32m   1250\u001b[0m \u001b[38;5;28;01mif\u001b[39;00m p \u001b[38;5;241m<\u001b[39m \u001b[38;5;241m0.0\u001b[39m \u001b[38;5;129;01mor\u001b[39;00m p \u001b[38;5;241m>\u001b[39m \u001b[38;5;241m1.0\u001b[39m:\n\u001b[1;32m   1251\u001b[0m     \u001b[38;5;28;01mraise\u001b[39;00m \u001b[38;5;167;01mValueError\u001b[39;00m(\u001b[38;5;124m\"\u001b[39m\u001b[38;5;124mdropout probability has to be between 0 and 1, \u001b[39m\u001b[38;5;124m\"\u001b[39m \u001b[38;5;124m\"\u001b[39m\u001b[38;5;124mbut got \u001b[39m\u001b[38;5;132;01m{}\u001b[39;00m\u001b[38;5;124m\"\u001b[39m\u001b[38;5;241m.\u001b[39mformat(p))\n\u001b[0;32m-> 1252\u001b[0m \u001b[38;5;28;01mreturn\u001b[39;00m _VF\u001b[38;5;241m.\u001b[39mdropout_(\u001b[38;5;28minput\u001b[39m, p, training) \u001b[38;5;28;01mif\u001b[39;00m inplace \u001b[38;5;28;01melse\u001b[39;00m \u001b[43m_VF\u001b[49m\u001b[38;5;241;43m.\u001b[39;49m\u001b[43mdropout\u001b[49m(\u001b[38;5;28minput\u001b[39m, p, training)\n",
      "File \u001b[0;32m~/Документы/Programs/miniconda3/lib/python3.10/site-packages/torch/_VF.py:26\u001b[0m, in \u001b[0;36mVFModule.__getattr__\u001b[0;34m(self, attr)\u001b[0m\n\u001b[1;32m     23\u001b[0m     \u001b[38;5;28msuper\u001b[39m(VFModule, \u001b[38;5;28mself\u001b[39m)\u001b[38;5;241m.\u001b[39m\u001b[38;5;21m__init__\u001b[39m(name)\n\u001b[1;32m     24\u001b[0m     \u001b[38;5;28mself\u001b[39m\u001b[38;5;241m.\u001b[39mvf \u001b[38;5;241m=\u001b[39m torch\u001b[38;5;241m.\u001b[39m_C\u001b[38;5;241m.\u001b[39m_VariableFunctions\n\u001b[0;32m---> 26\u001b[0m \u001b[38;5;28;01mdef\u001b[39;00m \u001b[38;5;21m__getattr__\u001b[39m(\u001b[38;5;28mself\u001b[39m, attr):\n\u001b[1;32m     27\u001b[0m     \u001b[38;5;28;01mreturn\u001b[39;00m \u001b[38;5;28mgetattr\u001b[39m(\u001b[38;5;28mself\u001b[39m\u001b[38;5;241m.\u001b[39mvf, attr)\n",
      "\u001b[0;31mKeyboardInterrupt\u001b[0m: "
     ]
    }
   ],
   "source": [
    "tokenizer = AutoTokenizer.from_pretrained(\"cointegrated/rubert-tiny\")\n",
    "model = AutoModel.from_pretrained(\"cointegrated/rubert-tiny\")\n",
    "device = \"cuda\" if torch.cuda.is_available() else \"cpu\"\n",
    "model = model.to(device)\n",
    "\n",
    "def embed_bert_cls(text):\n",
    "    t = tokenizer(text, padding=True, truncation=True, return_tensors='pt')\n",
    "    with torch.no_grad():\n",
    "        model_output = model(**{k: v.to(model.device) for k, v in t.items()})\n",
    "    embeddings = model_output.last_hidden_state[:, 0, :]\n",
    "    embeddings = torch.nn.functional.normalize(embeddings)\n",
    "    return embeddings[0]#.cpu().numpy()\n",
    "\n",
    "\n",
    "def get_converted_embedding(word):\n",
    "  if not( word in converted_words.keys() ):\n",
    "    converted_words['word'] = embed_bert_cls(word)\n",
    "  return converted_words['word']\n",
    "\n",
    "def get_text_embedding(text):\n",
    "    text_embedding = []\n",
    "    for w in text:\n",
    "        w_embedding = get_converted_embedding(w)\n",
    "        text_embedding.append(w_embedding)\n",
    "    #text_embedding = np.array(text_embedding)\n",
    "    return torch.stack(text_embedding)\n",
    "\n",
    "text_embedding_list = []\n",
    "for text in tqdm(text_list_of_words):\n",
    "    text_embedding_list.append(get_text_embedding(text))\n"
   ]
  },
  {
   "cell_type": "code",
   "execution_count": 21,
   "id": "35b49e8e-977b-49ab-adac-1030243769cc",
   "metadata": {
    "id": "35b49e8e-977b-49ab-adac-1030243769cc"
   },
   "outputs": [],
   "source": [
    "class BERTDataset(Dataset):\n",
    "    def __init__(self, text_embedding_list,word_position_list,class_vals):\n",
    "        self.text_embedding_list = text_embedding_list\n",
    "        self.word_position_list = word_position_list\n",
    "        self.class_val = class_vals\n",
    "        self.device = \"cuda\" if torch.cuda.is_available() else \"cpu\"\n",
    "        \n",
    "        self.tokenizer = AutoTokenizer.from_pretrained(\"cointegrated/rubert-tiny\")\n",
    "        self.model = AutoModel.from_pretrained(\"cointegrated/rubert-tiny\")\n",
    "        self.model.to(self.device)\n",
    "\n",
    "    def __len__(self):\n",
    "        return len(self.text_embedding_list)\n",
    "    \n",
    "    def embed_bert_cls(self,text):\n",
    "        \n",
    "        \n",
    "        t = self.tokenizer(text, padding=True, truncation=True, return_tensors='pt')\n",
    "        with torch.no_grad():\n",
    "            model_output = self.model(**{k: v.to(model.device) for k, v in t.items()})\n",
    "        embeddings = model_output.last_hidden_state[:, 0, :]\n",
    "        embeddings = torch.nn.functional.normalize(embeddings)\n",
    "        return embeddings[0]#.cpu().numpy()\n",
    "    \n",
    "    def get_text_embedding(self,text):\n",
    "        text_embedding = []\n",
    "        for w in text:\n",
    "            w_embedding = self.embed_bert_cls(w)\n",
    "            text_embedding.append(w_embedding)\n",
    "        #text_embedding = np.array(text_embedding)\n",
    "        return torch.stack(text_embedding)\n",
    "    \n",
    "    def __getitem__(self, idx):\n",
    "        text_embedding = text_embedding_list[idx]\n",
    "        \n",
    "        label = torch.tensor(word_position_list[idx])\n",
    "        \n",
    "        start,end = word_position_list[idx][0],word_position_list[idx][1]\n",
    "        label_seq = torch.zeros(2000)\n",
    "        if (start!=end):\n",
    "            label_seq[start:end] = 1\n",
    "        \n",
    "        class_code = torch.tensor([0,1]) if self.class_val[idx]==1 else torch.tensor([1,0])\n",
    "        \n",
    "        text_embedding = text_embedding.to(self.device)\n",
    "        label_seq = label_seq.to(self.device)\n",
    "        class_code = class_code.to(self.device)\n",
    "        return text_embedding,label_seq, class_code#,label"
   ]
  },
  {
   "cell_type": "code",
   "execution_count": null,
   "id": "80560a32-723f-410e-8571-04c5245478bc",
   "metadata": {
    "id": "80560a32-723f-410e-8571-04c5245478bc"
   },
   "outputs": [],
   "source": [
    "train_idx,test_idx = train_test_split(np.arange(len(text_embedding_list)), test_size=0.2, random_state=42)"
   ]
  },
  {
   "cell_type": "code",
   "execution_count": null,
   "id": "5e386aa7-9177-40ba-ac86-19364db36787",
   "metadata": {
    "colab": {
     "base_uri": "https://localhost:8080/"
    },
    "id": "5e386aa7-9177-40ba-ac86-19364db36787",
    "outputId": "2d257969-709c-48f6-967b-a453f6690c44"
   },
   "outputs": [],
   "source": [
    "batch_size = 100\n",
    "#Data\n",
    "train_data = BERTDataset(list(pd.Series(text_embedding_list)[train_idx]),\n",
    "                        list(pd.Series(output_word_position_list)[train_idx]),\n",
    "                        list(pd.Series(class_vals)[train_idx]))\n",
    "test_data = BERTDataset(list(pd.Series(text_embedding_list)[test_idx]),\n",
    "                        list(pd.Series(output_word_position_list)[test_idx]),\n",
    "                        list(pd.Series(class_vals)[test_idx]))\n",
    "\n",
    "train_dataloader = DataLoader(train_data, batch_size=batch_size, shuffle=True)\n",
    "test_dataloader = DataLoader(test_data, batch_size=batch_size, shuffle=True)"
   ]
  },
  {
   "cell_type": "markdown",
   "id": "1a7798b7-aea8-4b60-8711-43bf1a4fe7d0",
   "metadata": {
    "id": "1a7798b7-aea8-4b60-8711-43bf1a4fe7d0"
   },
   "source": [
    "## Model"
   ]
  },
  {
   "cell_type": "code",
   "execution_count": null,
   "id": "ac119603-3aed-400e-86ec-e6ebcc00403f",
   "metadata": {
    "id": "ac119603-3aed-400e-86ec-e6ebcc00403f"
   },
   "outputs": [],
   "source": [
    "class LSTMModel(torch.nn.Module):\n",
    "\n",
    "    def __init__(self):\n",
    "        super(LSTMModel, self).__init__()\n",
    "        self.device = \"cuda\" if torch.cuda.is_available() else \"cpu\"\n",
    "        \n",
    "        self.lstm1 = torch.nn.LSTM(input_size =312,hidden_size = 3,num_layers = 1)\n",
    "        self.linear1 = torch.nn.Linear(2, 2000*3)\n",
    "        \n",
    "        self.lstm2 = torch.nn.LSTM(input_size = 3,hidden_size = 1,num_layers = 2)\n",
    "        \n",
    "        self.linear2 = torch.nn.Linear(2000, 2000)\n",
    "        \n",
    "        self.softmax = torch.nn.Softmax()\n",
    "\n",
    "    def forward(self, seq,c):\n",
    "        \n",
    "        class_seq = self.linear1(c)\n",
    "        \n",
    "        h_0 = torch.autograd.Variable(torch.zeros(1, batch_size, 3).to(self.device))\n",
    "        c_0 = torch.autograd.Variable(torch.zeros(1, batch_size, 3).to(self.device))\n",
    "\n",
    "        output, (final_hidden_state, final_cell_state) = self.lstm1(seq, (h_0, c_0))\n",
    "        output = output.reshape(-1) + class_seq\n",
    "        output = output.reshape(2000,3)\n",
    "        \n",
    "        output, (final_hidden_state, final_cell_state) = self.lstm2(output, (h_0, c_0))\n",
    "        output = self.linear2(output)\n",
    "        return self.softmax(output)"
   ]
  },
  {
   "cell_type": "code",
   "execution_count": null,
   "id": "736ff2b0-a01a-4641-be65-e740f09ed1e6",
   "metadata": {
    "id": "736ff2b0-a01a-4641-be65-e740f09ed1e6"
   },
   "outputs": [],
   "source": [
    "#Train\n",
    "def train(model,dataloader,loss,opt,train_size):\n",
    "    model.train()\n",
    "    current_loss = 0\n",
    "    current_acc = 0\n",
    "    \n",
    "    for step, (text,label_seq,class_code) in enumerate(dataloader):\n",
    "        res = model(text,class_code)\n",
    "\n",
    "        l_val = loss(res, label_seq)\n",
    "        current_loss += l_val\n",
    "        current_acc += (res==label_seq).sum()\n",
    "\n",
    "        l_val.backward()\n",
    "        opt.step()\n",
    "\n",
    "    current_loss /= train_size\n",
    "    current_acc /= train_size\n",
    "    \n",
    "    return current_loss, current_acc\n",
    "    "
   ]
  },
  {
   "cell_type": "code",
   "execution_count": null,
   "id": "ff83656e-d351-481b-b521-f9e7464d73d9",
   "metadata": {
    "id": "ff83656e-d351-481b-b521-f9e7464d73d9"
   },
   "outputs": [],
   "source": [
    "#Train\n",
    "def test(model,dataloader,loss,test_size):\n",
    "    model.eval()\n",
    "    current_loss = 0\n",
    "    current_acc = 0\n",
    "    for step, (text,label_seq,class_code) in enumerate(dataloader):\n",
    "        res = model(text,class_code)\n",
    "\n",
    "        l_val = loss(res, label_seq)\n",
    "        current_loss += l_val\n",
    "        current_acc += (res==label_seq).sum()\n",
    "\n",
    "    current_loss /= test_size\n",
    "    current_acc /= test_size\n",
    "    \n",
    "    return current_loss, current_acc\n",
    "    "
   ]
  },
  {
   "cell_type": "code",
   "execution_count": null,
   "id": "9b2ccc9a-66ab-401d-bdee-fd9ed43837d8",
   "metadata": {
    "colab": {
     "base_uri": "https://localhost:8080/",
     "height": 417
    },
    "id": "9b2ccc9a-66ab-401d-bdee-fd9ed43837d8",
    "outputId": "40095ecc-bad2-4636-e911-b96529d0a137"
   },
   "outputs": [],
   "source": [
    "# %%capture --no-display\n",
    "model = LSTMModel()\n",
    "opt = torch.optim.Adam(model.parameters(), lr=0.001, betas=(0.7, 0.899))\n",
    "loss = torch.nn.MSELoss()\n",
    "epoch = 10\n",
    "\n",
    "loss_vals = [[],[]]\n",
    "acc = [[],[]]\n",
    "\n",
    "for i in tqdm(range(epoch)):\n",
    "    \n",
    "    train_l,train_acc = train(model,train_dataloader,loss,opt,train_size=len(train_idx))\n",
    "    test_l,test_acc = test(model,test_dataloader,loss,test_size=len(test_idx))\n",
    "\n",
    "    loss_vals[0].append(train_l)\n",
    "    loss_vals[1].append(test_l)\n",
    "\n",
    "    acc[0].append(train_acc)\n",
    "    acc[1].append(test_acc)\n",
    "    #clear_output(wait=True)\n",
    "    "
   ]
  },
  {
   "cell_type": "code",
   "execution_count": null,
   "id": "d893e1de-8e79-455b-beea-64a257e090b5",
   "metadata": {},
   "outputs": [],
   "source": []
  }
 ],
 "metadata": {
  "accelerator": "GPU",
  "colab": {
   "provenance": []
  },
  "gpuClass": "standard",
  "kernelspec": {
   "display_name": "Python 3 (ipykernel)",
   "language": "python",
   "name": "python3"
  },
  "language_info": {
   "codemirror_mode": {
    "name": "ipython",
    "version": 3
   },
   "file_extension": ".py",
   "mimetype": "text/x-python",
   "name": "python",
   "nbconvert_exporter": "python",
   "pygments_lexer": "ipython3",
   "version": "3.10.9"
  }
 },
 "nbformat": 4,
 "nbformat_minor": 5
}
